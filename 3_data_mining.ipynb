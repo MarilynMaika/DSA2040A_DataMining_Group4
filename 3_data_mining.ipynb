{
 "cells": [
  {
   "cell_type": "markdown",
   "id": "42133b5a",
   "metadata": {},
   "source": [
    "#  Marilyn:  Loaded the necessary libraries needed for data mining"
   ]
  },
  {
   "cell_type": "code",
   "execution_count": 121,
   "id": "a6485908",
   "metadata": {},
   "outputs": [],
   "source": [
    "# Data handling\n",
    "import pandas as pd\n",
    "import numpy as np\n",
    "from sklearn.model_selection import train_test_split\n",
    "from sklearn.preprocessing import LabelEncoder, StandardScaler\n",
    "from sklearn.linear_model import LogisticRegression\n",
    "from sklearn.tree import DecisionTreeClassifier\n",
    "from sklearn.ensemble import RandomForestClassifier\n",
    "from sklearn.metrics import classification_report, accuracy_score\n",
    "from sklearn.cluster import KMeans, DBSCAN  # for clustering (if needed)\n",
    "from sklearn.metrics import accuracy_score, classification_report, confusion_matrix\n",
    "from mlxtend.frequent_patterns import apriori, association_rules\n",
    "from mlxtend.preprocessing import TransactionEncoder\n"
   ]
  },
  {
   "cell_type": "code",
   "execution_count": 122,
   "id": "3922707f",
   "metadata": {},
   "outputs": [
    {
     "data": {
      "application/vnd.microsoft.datawrangler.viewer.v0+json": {
       "columns": [
        {
         "name": "index",
         "rawType": "int64",
         "type": "integer"
        },
        {
         "name": "usession_id",
         "rawType": "object",
         "type": "string"
        },
        {
         "name": "network_packet_size",
         "rawType": "int64",
         "type": "integer"
        },
        {
         "name": "protocol_type",
         "rawType": "object",
         "type": "string"
        },
        {
         "name": "login_attempts",
         "rawType": "int64",
         "type": "integer"
        },
        {
         "name": "session_duration",
         "rawType": "float64",
         "type": "float"
        },
        {
         "name": "encryption_used",
         "rawType": "object",
         "type": "string"
        },
        {
         "name": "ip_reputation_score",
         "rawType": "float64",
         "type": "float"
        },
        {
         "name": "failed_logins",
         "rawType": "int64",
         "type": "integer"
        },
        {
         "name": "browser_type",
         "rawType": "object",
         "type": "string"
        },
        {
         "name": "unusual_time_access",
         "rawType": "int64",
         "type": "integer"
        },
        {
         "name": "attack_detected",
         "rawType": "int64",
         "type": "integer"
        }
       ],
       "ref": "d0c21752-dbb4-4379-83d0-724a0a9bb78b",
       "rows": [
        [
         "0",
         "SID_00001",
         "599",
         "TCP",
         "4",
         "492.9832634426563",
         "DES",
         "0.606818080396889",
         "1",
         "Edge",
         "0",
         "1"
        ],
        [
         "1",
         "SID_00002",
         "472",
         "TCP",
         "3",
         "1557.9964611204384",
         "DES",
         "0.3015689675960893",
         "0",
         "Firefox",
         "0",
         "0"
        ],
        [
         "2",
         "SID_00003",
         "629",
         "TCP",
         "3",
         "75.04426166420741",
         "DES",
         "0.7391643279163831",
         "2",
         "Chrome",
         "0",
         "1"
        ],
        [
         "3",
         "SID_00004",
         "804",
         "UDP",
         "4",
         "601.2488351708328",
         "DES",
         "0.1232671757524846",
         "0",
         "Unknown",
         "0",
         "1"
        ],
        [
         "4",
         "SID_00005",
         "453",
         "TCP",
         "5",
         "532.5408884201419",
         "AES",
         "0.0548738567431703",
         "1",
         "Firefox",
         "0",
         "0"
        ]
       ],
       "shape": {
        "columns": 11,
        "rows": 5
       }
      },
      "text/html": [
       "<div>\n",
       "<style scoped>\n",
       "    .dataframe tbody tr th:only-of-type {\n",
       "        vertical-align: middle;\n",
       "    }\n",
       "\n",
       "    .dataframe tbody tr th {\n",
       "        vertical-align: top;\n",
       "    }\n",
       "\n",
       "    .dataframe thead th {\n",
       "        text-align: right;\n",
       "    }\n",
       "</style>\n",
       "<table border=\"1\" class=\"dataframe\">\n",
       "  <thead>\n",
       "    <tr style=\"text-align: right;\">\n",
       "      <th></th>\n",
       "      <th>usession_id</th>\n",
       "      <th>network_packet_size</th>\n",
       "      <th>protocol_type</th>\n",
       "      <th>login_attempts</th>\n",
       "      <th>session_duration</th>\n",
       "      <th>encryption_used</th>\n",
       "      <th>ip_reputation_score</th>\n",
       "      <th>failed_logins</th>\n",
       "      <th>browser_type</th>\n",
       "      <th>unusual_time_access</th>\n",
       "      <th>attack_detected</th>\n",
       "    </tr>\n",
       "  </thead>\n",
       "  <tbody>\n",
       "    <tr>\n",
       "      <th>0</th>\n",
       "      <td>SID_00001</td>\n",
       "      <td>599</td>\n",
       "      <td>TCP</td>\n",
       "      <td>4</td>\n",
       "      <td>492.983263</td>\n",
       "      <td>DES</td>\n",
       "      <td>0.606818</td>\n",
       "      <td>1</td>\n",
       "      <td>Edge</td>\n",
       "      <td>0</td>\n",
       "      <td>1</td>\n",
       "    </tr>\n",
       "    <tr>\n",
       "      <th>1</th>\n",
       "      <td>SID_00002</td>\n",
       "      <td>472</td>\n",
       "      <td>TCP</td>\n",
       "      <td>3</td>\n",
       "      <td>1557.996461</td>\n",
       "      <td>DES</td>\n",
       "      <td>0.301569</td>\n",
       "      <td>0</td>\n",
       "      <td>Firefox</td>\n",
       "      <td>0</td>\n",
       "      <td>0</td>\n",
       "    </tr>\n",
       "    <tr>\n",
       "      <th>2</th>\n",
       "      <td>SID_00003</td>\n",
       "      <td>629</td>\n",
       "      <td>TCP</td>\n",
       "      <td>3</td>\n",
       "      <td>75.044262</td>\n",
       "      <td>DES</td>\n",
       "      <td>0.739164</td>\n",
       "      <td>2</td>\n",
       "      <td>Chrome</td>\n",
       "      <td>0</td>\n",
       "      <td>1</td>\n",
       "    </tr>\n",
       "    <tr>\n",
       "      <th>3</th>\n",
       "      <td>SID_00004</td>\n",
       "      <td>804</td>\n",
       "      <td>UDP</td>\n",
       "      <td>4</td>\n",
       "      <td>601.248835</td>\n",
       "      <td>DES</td>\n",
       "      <td>0.123267</td>\n",
       "      <td>0</td>\n",
       "      <td>Unknown</td>\n",
       "      <td>0</td>\n",
       "      <td>1</td>\n",
       "    </tr>\n",
       "    <tr>\n",
       "      <th>4</th>\n",
       "      <td>SID_00005</td>\n",
       "      <td>453</td>\n",
       "      <td>TCP</td>\n",
       "      <td>5</td>\n",
       "      <td>532.540888</td>\n",
       "      <td>AES</td>\n",
       "      <td>0.054874</td>\n",
       "      <td>1</td>\n",
       "      <td>Firefox</td>\n",
       "      <td>0</td>\n",
       "      <td>0</td>\n",
       "    </tr>\n",
       "  </tbody>\n",
       "</table>\n",
       "</div>"
      ],
      "text/plain": [
       "  usession_id  network_packet_size protocol_type  login_attempts  \\\n",
       "0   SID_00001                  599           TCP               4   \n",
       "1   SID_00002                  472           TCP               3   \n",
       "2   SID_00003                  629           TCP               3   \n",
       "3   SID_00004                  804           UDP               4   \n",
       "4   SID_00005                  453           TCP               5   \n",
       "\n",
       "   session_duration encryption_used  ip_reputation_score  failed_logins  \\\n",
       "0        492.983263             DES             0.606818              1   \n",
       "1       1557.996461             DES             0.301569              0   \n",
       "2         75.044262             DES             0.739164              2   \n",
       "3        601.248835             DES             0.123267              0   \n",
       "4        532.540888             AES             0.054874              1   \n",
       "\n",
       "  browser_type  unusual_time_access  attack_detected  \n",
       "0         Edge                    0                1  \n",
       "1      Firefox                    0                0  \n",
       "2       Chrome                    0                1  \n",
       "3      Unknown                    0                1  \n",
       "4      Firefox                    0                0  "
      ]
     },
     "execution_count": 122,
     "metadata": {},
     "output_type": "execute_result"
    }
   ],
   "source": [
    "df = pd.read_csv(\"data/transformed/transformed_cybersecurity_intrusion_data.csv\")\n",
    "df.head()"
   ]
  },
  {
   "cell_type": "markdown",
   "id": "bb2a6616",
   "metadata": {},
   "source": [
    "#### Marilyn:   Inspecting the data making sure it is ready for data modeling and other data mining techniques"
   ]
  },
  {
   "cell_type": "code",
   "execution_count": 123,
   "id": "76bfb6f8",
   "metadata": {},
   "outputs": [
    {
     "name": "stdout",
     "output_type": "stream",
     "text": [
      "usession_id               0\n",
      "network_packet_size       0\n",
      "protocol_type             0\n",
      "login_attempts            0\n",
      "session_duration          0\n",
      "encryption_used        1966\n",
      "ip_reputation_score       0\n",
      "failed_logins             0\n",
      "browser_type              0\n",
      "unusual_time_access       0\n",
      "attack_detected           0\n",
      "dtype: int64\n",
      "(9537, 11)\n"
     ]
    },
    {
     "data": {
      "application/vnd.microsoft.datawrangler.viewer.v0+json": {
       "columns": [
        {
         "name": "index",
         "rawType": "int64",
         "type": "integer"
        },
        {
         "name": "usession_id",
         "rawType": "object",
         "type": "string"
        },
        {
         "name": "network_packet_size",
         "rawType": "int64",
         "type": "integer"
        },
        {
         "name": "protocol_type",
         "rawType": "object",
         "type": "string"
        },
        {
         "name": "login_attempts",
         "rawType": "int64",
         "type": "integer"
        },
        {
         "name": "session_duration",
         "rawType": "float64",
         "type": "float"
        },
        {
         "name": "encryption_used",
         "rawType": "object",
         "type": "string"
        },
        {
         "name": "ip_reputation_score",
         "rawType": "float64",
         "type": "float"
        },
        {
         "name": "failed_logins",
         "rawType": "int64",
         "type": "integer"
        },
        {
         "name": "browser_type",
         "rawType": "object",
         "type": "string"
        },
        {
         "name": "unusual_time_access",
         "rawType": "int64",
         "type": "integer"
        },
        {
         "name": "attack_detected",
         "rawType": "int64",
         "type": "integer"
        }
       ],
       "ref": "27d14e4d-27d6-45c7-96a7-22318b475f05",
       "rows": [
        [
         "0",
         "SID_00001",
         "599",
         "TCP",
         "4",
         "492.9832634426563",
         "DES",
         "0.606818080396889",
         "1",
         "Edge",
         "0",
         "1"
        ],
        [
         "1",
         "SID_00002",
         "472",
         "TCP",
         "3",
         "1557.9964611204384",
         "DES",
         "0.3015689675960893",
         "0",
         "Firefox",
         "0",
         "0"
        ]
       ],
       "shape": {
        "columns": 11,
        "rows": 2
       }
      },
      "text/html": [
       "<div>\n",
       "<style scoped>\n",
       "    .dataframe tbody tr th:only-of-type {\n",
       "        vertical-align: middle;\n",
       "    }\n",
       "\n",
       "    .dataframe tbody tr th {\n",
       "        vertical-align: top;\n",
       "    }\n",
       "\n",
       "    .dataframe thead th {\n",
       "        text-align: right;\n",
       "    }\n",
       "</style>\n",
       "<table border=\"1\" class=\"dataframe\">\n",
       "  <thead>\n",
       "    <tr style=\"text-align: right;\">\n",
       "      <th></th>\n",
       "      <th>usession_id</th>\n",
       "      <th>network_packet_size</th>\n",
       "      <th>protocol_type</th>\n",
       "      <th>login_attempts</th>\n",
       "      <th>session_duration</th>\n",
       "      <th>encryption_used</th>\n",
       "      <th>ip_reputation_score</th>\n",
       "      <th>failed_logins</th>\n",
       "      <th>browser_type</th>\n",
       "      <th>unusual_time_access</th>\n",
       "      <th>attack_detected</th>\n",
       "    </tr>\n",
       "  </thead>\n",
       "  <tbody>\n",
       "    <tr>\n",
       "      <th>0</th>\n",
       "      <td>SID_00001</td>\n",
       "      <td>599</td>\n",
       "      <td>TCP</td>\n",
       "      <td>4</td>\n",
       "      <td>492.983263</td>\n",
       "      <td>DES</td>\n",
       "      <td>0.606818</td>\n",
       "      <td>1</td>\n",
       "      <td>Edge</td>\n",
       "      <td>0</td>\n",
       "      <td>1</td>\n",
       "    </tr>\n",
       "    <tr>\n",
       "      <th>1</th>\n",
       "      <td>SID_00002</td>\n",
       "      <td>472</td>\n",
       "      <td>TCP</td>\n",
       "      <td>3</td>\n",
       "      <td>1557.996461</td>\n",
       "      <td>DES</td>\n",
       "      <td>0.301569</td>\n",
       "      <td>0</td>\n",
       "      <td>Firefox</td>\n",
       "      <td>0</td>\n",
       "      <td>0</td>\n",
       "    </tr>\n",
       "  </tbody>\n",
       "</table>\n",
       "</div>"
      ],
      "text/plain": [
       "  usession_id  network_packet_size protocol_type  login_attempts  \\\n",
       "0   SID_00001                  599           TCP               4   \n",
       "1   SID_00002                  472           TCP               3   \n",
       "\n",
       "   session_duration encryption_used  ip_reputation_score  failed_logins  \\\n",
       "0        492.983263             DES             0.606818              1   \n",
       "1       1557.996461             DES             0.301569              0   \n",
       "\n",
       "  browser_type  unusual_time_access  attack_detected  \n",
       "0         Edge                    0                1  \n",
       "1      Firefox                    0                0  "
      ]
     },
     "execution_count": 123,
     "metadata": {},
     "output_type": "execute_result"
    }
   ],
   "source": [
    "df.columns\n",
    "print(df.isnull().sum())\n",
    "print(df.shape)\n",
    "df.head(2)"
   ]
  },
  {
   "cell_type": "code",
   "execution_count": 124,
   "id": "636d98ac",
   "metadata": {},
   "outputs": [
    {
     "data": {
      "application/vnd.microsoft.datawrangler.viewer.v0+json": {
       "columns": [
        {
         "name": "index",
         "rawType": "object",
         "type": "string"
        },
        {
         "name": "0",
         "rawType": "int64",
         "type": "integer"
        }
       ],
       "ref": "a3d7ad4a-3bed-4829-bce2-19ee51cfe908",
       "rows": [
        [
         "network_packet_size",
         "0"
        ],
        [
         "protocol_type",
         "0"
        ],
        [
         "login_attempts",
         "0"
        ],
        [
         "session_duration",
         "0"
        ],
        [
         "encryption_used",
         "0"
        ],
        [
         "ip_reputation_score",
         "0"
        ],
        [
         "failed_logins",
         "0"
        ],
        [
         "browser_type",
         "0"
        ],
        [
         "unusual_time_access",
         "0"
        ],
        [
         "attack_detected",
         "0"
        ]
       ],
       "shape": {
        "columns": 1,
        "rows": 10
       }
      },
      "text/plain": [
       "network_packet_size    0\n",
       "protocol_type          0\n",
       "login_attempts         0\n",
       "session_duration       0\n",
       "encryption_used        0\n",
       "ip_reputation_score    0\n",
       "failed_logins          0\n",
       "browser_type           0\n",
       "unusual_time_access    0\n",
       "attack_detected        0\n",
       "dtype: int64"
      ]
     },
     "execution_count": 124,
     "metadata": {},
     "output_type": "execute_result"
    }
   ],
   "source": [
    "df_new=df.copy()\n",
    "df_new = df_new.drop(columns=[\"usession_id\"])\n",
    "#replacing N/A values with None\n",
    "df_new[\"encryption_used\"]=df_new[\"encryption_used\"].fillna(\"None\")\n",
    "df_new.isnull().sum()\n"
   ]
  },
  {
   "cell_type": "code",
   "execution_count": 125,
   "id": "39fed581",
   "metadata": {},
   "outputs": [
    {
     "data": {
      "application/vnd.microsoft.datawrangler.viewer.v0+json": {
       "columns": [
        {
         "name": "index",
         "rawType": "int64",
         "type": "integer"
        },
        {
         "name": "network_packet_size",
         "rawType": "int64",
         "type": "integer"
        },
        {
         "name": "protocol_type",
         "rawType": "object",
         "type": "string"
        },
        {
         "name": "login_attempts",
         "rawType": "int64",
         "type": "integer"
        },
        {
         "name": "session_duration",
         "rawType": "float64",
         "type": "float"
        },
        {
         "name": "encryption_used",
         "rawType": "object",
         "type": "string"
        },
        {
         "name": "ip_reputation_score",
         "rawType": "float64",
         "type": "float"
        },
        {
         "name": "failed_logins",
         "rawType": "int64",
         "type": "integer"
        },
        {
         "name": "browser_type",
         "rawType": "object",
         "type": "string"
        },
        {
         "name": "unusual_time_access",
         "rawType": "int64",
         "type": "integer"
        },
        {
         "name": "attack_detected",
         "rawType": "int64",
         "type": "integer"
        }
       ],
       "ref": "4e8b9a44-b9e2-43e2-b8dd-7cff1fa3423d",
       "rows": [
        [
         "0",
         "599",
         "TCP",
         "4",
         "492.9832634426563",
         "DES",
         "0.606818080396889",
         "1",
         "Edge",
         "0",
         "1"
        ],
        [
         "1",
         "472",
         "TCP",
         "3",
         "1557.9964611204384",
         "DES",
         "0.3015689675960893",
         "0",
         "Firefox",
         "0",
         "0"
        ],
        [
         "2",
         "629",
         "TCP",
         "3",
         "75.04426166420741",
         "DES",
         "0.7391643279163831",
         "2",
         "Chrome",
         "0",
         "1"
        ],
        [
         "3",
         "804",
         "UDP",
         "4",
         "601.2488351708328",
         "DES",
         "0.1232671757524846",
         "0",
         "Unknown",
         "0",
         "1"
        ],
        [
         "4",
         "453",
         "TCP",
         "5",
         "532.5408884201419",
         "AES",
         "0.0548738567431703",
         "1",
         "Firefox",
         "0",
         "0"
        ]
       ],
       "shape": {
        "columns": 10,
        "rows": 5
       }
      },
      "text/html": [
       "<div>\n",
       "<style scoped>\n",
       "    .dataframe tbody tr th:only-of-type {\n",
       "        vertical-align: middle;\n",
       "    }\n",
       "\n",
       "    .dataframe tbody tr th {\n",
       "        vertical-align: top;\n",
       "    }\n",
       "\n",
       "    .dataframe thead th {\n",
       "        text-align: right;\n",
       "    }\n",
       "</style>\n",
       "<table border=\"1\" class=\"dataframe\">\n",
       "  <thead>\n",
       "    <tr style=\"text-align: right;\">\n",
       "      <th></th>\n",
       "      <th>network_packet_size</th>\n",
       "      <th>protocol_type</th>\n",
       "      <th>login_attempts</th>\n",
       "      <th>session_duration</th>\n",
       "      <th>encryption_used</th>\n",
       "      <th>ip_reputation_score</th>\n",
       "      <th>failed_logins</th>\n",
       "      <th>browser_type</th>\n",
       "      <th>unusual_time_access</th>\n",
       "      <th>attack_detected</th>\n",
       "    </tr>\n",
       "  </thead>\n",
       "  <tbody>\n",
       "    <tr>\n",
       "      <th>0</th>\n",
       "      <td>599</td>\n",
       "      <td>TCP</td>\n",
       "      <td>4</td>\n",
       "      <td>492.983263</td>\n",
       "      <td>DES</td>\n",
       "      <td>0.606818</td>\n",
       "      <td>1</td>\n",
       "      <td>Edge</td>\n",
       "      <td>0</td>\n",
       "      <td>1</td>\n",
       "    </tr>\n",
       "    <tr>\n",
       "      <th>1</th>\n",
       "      <td>472</td>\n",
       "      <td>TCP</td>\n",
       "      <td>3</td>\n",
       "      <td>1557.996461</td>\n",
       "      <td>DES</td>\n",
       "      <td>0.301569</td>\n",
       "      <td>0</td>\n",
       "      <td>Firefox</td>\n",
       "      <td>0</td>\n",
       "      <td>0</td>\n",
       "    </tr>\n",
       "    <tr>\n",
       "      <th>2</th>\n",
       "      <td>629</td>\n",
       "      <td>TCP</td>\n",
       "      <td>3</td>\n",
       "      <td>75.044262</td>\n",
       "      <td>DES</td>\n",
       "      <td>0.739164</td>\n",
       "      <td>2</td>\n",
       "      <td>Chrome</td>\n",
       "      <td>0</td>\n",
       "      <td>1</td>\n",
       "    </tr>\n",
       "    <tr>\n",
       "      <th>3</th>\n",
       "      <td>804</td>\n",
       "      <td>UDP</td>\n",
       "      <td>4</td>\n",
       "      <td>601.248835</td>\n",
       "      <td>DES</td>\n",
       "      <td>0.123267</td>\n",
       "      <td>0</td>\n",
       "      <td>Unknown</td>\n",
       "      <td>0</td>\n",
       "      <td>1</td>\n",
       "    </tr>\n",
       "    <tr>\n",
       "      <th>4</th>\n",
       "      <td>453</td>\n",
       "      <td>TCP</td>\n",
       "      <td>5</td>\n",
       "      <td>532.540888</td>\n",
       "      <td>AES</td>\n",
       "      <td>0.054874</td>\n",
       "      <td>1</td>\n",
       "      <td>Firefox</td>\n",
       "      <td>0</td>\n",
       "      <td>0</td>\n",
       "    </tr>\n",
       "  </tbody>\n",
       "</table>\n",
       "</div>"
      ],
      "text/plain": [
       "   network_packet_size protocol_type  login_attempts  session_duration  \\\n",
       "0                  599           TCP               4        492.983263   \n",
       "1                  472           TCP               3       1557.996461   \n",
       "2                  629           TCP               3         75.044262   \n",
       "3                  804           UDP               4        601.248835   \n",
       "4                  453           TCP               5        532.540888   \n",
       "\n",
       "  encryption_used  ip_reputation_score  failed_logins browser_type  \\\n",
       "0             DES             0.606818              1         Edge   \n",
       "1             DES             0.301569              0      Firefox   \n",
       "2             DES             0.739164              2       Chrome   \n",
       "3             DES             0.123267              0      Unknown   \n",
       "4             AES             0.054874              1      Firefox   \n",
       "\n",
       "   unusual_time_access  attack_detected  \n",
       "0                    0                1  \n",
       "1                    0                0  \n",
       "2                    0                1  \n",
       "3                    0                1  \n",
       "4                    0                0  "
      ]
     },
     "execution_count": 125,
     "metadata": {},
     "output_type": "execute_result"
    }
   ],
   "source": [
    "df_new.dtypes\n",
    "df_new.head()\n",
    "\n"
   ]
  },
  {
   "cell_type": "markdown",
   "id": "2914a803",
   "metadata": {},
   "source": [
    "## 1. Marilyn Supervised Learning Techniques"
   ]
  },
  {
   "cell_type": "markdown",
   "id": "7c25540d",
   "metadata": {},
   "source": [
    "### Marilyn: Preprocessing the data for  modeling"
   ]
  },
  {
   "cell_type": "markdown",
   "id": "93fc937b",
   "metadata": {},
   "source": [
    "#### Marilyn: separating the data into features and target variables"
   ]
  },
  {
   "cell_type": "code",
   "execution_count": 126,
   "id": "2693459d",
   "metadata": {},
   "outputs": [
    {
     "name": "stdout",
     "output_type": "stream",
     "text": [
      "Index(['network_packet_size', 'protocol_type', 'login_attempts',\n",
      "       'session_duration', 'encryption_used', 'ip_reputation_score',\n",
      "       'failed_logins', 'browser_type', 'unusual_time_access'],\n",
      "      dtype='object')\n"
     ]
    },
    {
     "data": {
      "application/vnd.microsoft.datawrangler.viewer.v0+json": {
       "columns": [
        {
         "name": "index",
         "rawType": "int64",
         "type": "integer"
        },
        {
         "name": "network_packet_size",
         "rawType": "int64",
         "type": "integer"
        },
        {
         "name": "protocol_type",
         "rawType": "object",
         "type": "string"
        },
        {
         "name": "login_attempts",
         "rawType": "int64",
         "type": "integer"
        },
        {
         "name": "session_duration",
         "rawType": "float64",
         "type": "float"
        },
        {
         "name": "encryption_used",
         "rawType": "object",
         "type": "string"
        },
        {
         "name": "ip_reputation_score",
         "rawType": "float64",
         "type": "float"
        },
        {
         "name": "failed_logins",
         "rawType": "int64",
         "type": "integer"
        },
        {
         "name": "browser_type",
         "rawType": "object",
         "type": "string"
        },
        {
         "name": "unusual_time_access",
         "rawType": "int64",
         "type": "integer"
        }
       ],
       "ref": "db77168f-e6fb-42d9-ae5a-7ec15044b3f7",
       "rows": [
        [
         "0",
         "599",
         "TCP",
         "4",
         "492.9832634426563",
         "DES",
         "0.606818080396889",
         "1",
         "Edge",
         "0"
        ],
        [
         "1",
         "472",
         "TCP",
         "3",
         "1557.9964611204384",
         "DES",
         "0.3015689675960893",
         "0",
         "Firefox",
         "0"
        ]
       ],
       "shape": {
        "columns": 9,
        "rows": 2
       }
      },
      "text/html": [
       "<div>\n",
       "<style scoped>\n",
       "    .dataframe tbody tr th:only-of-type {\n",
       "        vertical-align: middle;\n",
       "    }\n",
       "\n",
       "    .dataframe tbody tr th {\n",
       "        vertical-align: top;\n",
       "    }\n",
       "\n",
       "    .dataframe thead th {\n",
       "        text-align: right;\n",
       "    }\n",
       "</style>\n",
       "<table border=\"1\" class=\"dataframe\">\n",
       "  <thead>\n",
       "    <tr style=\"text-align: right;\">\n",
       "      <th></th>\n",
       "      <th>network_packet_size</th>\n",
       "      <th>protocol_type</th>\n",
       "      <th>login_attempts</th>\n",
       "      <th>session_duration</th>\n",
       "      <th>encryption_used</th>\n",
       "      <th>ip_reputation_score</th>\n",
       "      <th>failed_logins</th>\n",
       "      <th>browser_type</th>\n",
       "      <th>unusual_time_access</th>\n",
       "    </tr>\n",
       "  </thead>\n",
       "  <tbody>\n",
       "    <tr>\n",
       "      <th>0</th>\n",
       "      <td>599</td>\n",
       "      <td>TCP</td>\n",
       "      <td>4</td>\n",
       "      <td>492.983263</td>\n",
       "      <td>DES</td>\n",
       "      <td>0.606818</td>\n",
       "      <td>1</td>\n",
       "      <td>Edge</td>\n",
       "      <td>0</td>\n",
       "    </tr>\n",
       "    <tr>\n",
       "      <th>1</th>\n",
       "      <td>472</td>\n",
       "      <td>TCP</td>\n",
       "      <td>3</td>\n",
       "      <td>1557.996461</td>\n",
       "      <td>DES</td>\n",
       "      <td>0.301569</td>\n",
       "      <td>0</td>\n",
       "      <td>Firefox</td>\n",
       "      <td>0</td>\n",
       "    </tr>\n",
       "  </tbody>\n",
       "</table>\n",
       "</div>"
      ],
      "text/plain": [
       "   network_packet_size protocol_type  login_attempts  session_duration  \\\n",
       "0                  599           TCP               4        492.983263   \n",
       "1                  472           TCP               3       1557.996461   \n",
       "\n",
       "  encryption_used  ip_reputation_score  failed_logins browser_type  \\\n",
       "0             DES             0.606818              1         Edge   \n",
       "1             DES             0.301569              0      Firefox   \n",
       "\n",
       "   unusual_time_access  \n",
       "0                    0  \n",
       "1                    0  "
      ]
     },
     "execution_count": 126,
     "metadata": {},
     "output_type": "execute_result"
    }
   ],
   "source": [
    "X = df_new.drop(\"attack_detected\", axis=1)\n",
    "y = df_new[\"attack_detected\"]\n",
    "print(X.columns)\n",
    "X.head(2)\n",
    "\n"
   ]
  },
  {
   "cell_type": "code",
   "execution_count": 127,
   "id": "5611c3aa",
   "metadata": {},
   "outputs": [],
   "source": [
    "categorical_cols = ['protocol_type', 'encryption_used', 'browser_type', 'unusual_time_access']\n",
    "\n",
    "# Encoding categorical columns using Label Encoding\n",
    "le = LabelEncoder()\n",
    "for col in categorical_cols:\n",
    "    X[col] = le.fit_transform(X[col])\n",
    "\n",
    "#scaling numerical features \n",
    "numerical_cols = X.select_dtypes(include=['int64', 'float64']).columns\n",
    "scaler = StandardScaler()\n",
    "X[numerical_cols] = scaler.fit_transform(X[numerical_cols])"
   ]
  },
  {
   "cell_type": "markdown",
   "id": "948ba522",
   "metadata": {},
   "source": [
    "### Marilyn: Splitting the data into training and testing sets"
   ]
  },
  {
   "cell_type": "code",
   "execution_count": 128,
   "id": "37977bd4",
   "metadata": {},
   "outputs": [],
   "source": [
    "# Split into training and testing sets\n",
    "X_train, X_test, y_train, y_test = train_test_split(\n",
    "    X, y, test_size=0.2, random_state=42, stratify=y\n",
    ")"
   ]
  },
  {
   "cell_type": "markdown",
   "id": "0339b48f",
   "metadata": {},
   "source": [
    "### Marilyn: Modeling Using Logistic Regression"
   ]
  },
  {
   "cell_type": "code",
   "execution_count": 129,
   "id": "c448074f",
   "metadata": {},
   "outputs": [],
   "source": [
    "\n",
    "log_model = LogisticRegression()\n",
    "log_model.fit(X_train, y_train)\n",
    "log_pred = log_model.predict(X_test)\n",
    "\n"
   ]
  },
  {
   "cell_type": "markdown",
   "id": "576f568f",
   "metadata": {},
   "source": [
    "### Marilyn : Modeling Using Decision Tree Classifier"
   ]
  },
  {
   "cell_type": "code",
   "execution_count": 130,
   "id": "95f7e533",
   "metadata": {},
   "outputs": [],
   "source": [
    "tree_model = DecisionTreeClassifier()\n",
    "tree_model.fit(X_train, y_train)\n",
    "tree_pred = tree_model.predict(X_test)"
   ]
  },
  {
   "cell_type": "markdown",
   "id": "4b871f20",
   "metadata": {},
   "source": [
    "### Marilyn : Modeling Using the Random forest classfier Classifier"
   ]
  },
  {
   "cell_type": "code",
   "execution_count": 131,
   "id": "6a7cd25e",
   "metadata": {},
   "outputs": [],
   "source": [
    "# 3. Random Forest\n",
    "forest_model = RandomForestClassifier()\n",
    "forest_model.fit(X_train, y_train)\n",
    "forest_pred = forest_model.predict(X_test)\n"
   ]
  },
  {
   "cell_type": "markdown",
   "id": "6e02cc9e",
   "metadata": {},
   "source": [
    "#### Marilyn: Model Evaluation"
   ]
  },
  {
   "cell_type": "code",
   "execution_count": 132,
   "id": "e30f1a7f",
   "metadata": {},
   "outputs": [
    {
     "name": "stdout",
     "output_type": "stream",
     "text": [
      "=== Logistic Regression ===\n",
      "Accuracy: 0.7285115303983228\n",
      "              precision    recall  f1-score   support\n",
      "\n",
      "           0       0.74      0.79      0.76      1055\n",
      "           1       0.71      0.66      0.68       853\n",
      "\n",
      "    accuracy                           0.73      1908\n",
      "   macro avg       0.73      0.72      0.72      1908\n",
      "weighted avg       0.73      0.73      0.73      1908\n",
      "\n",
      "----------------------------------------\n",
      "=== Decision Tree ===\n",
      "Accuracy: 0.8286163522012578\n",
      "              precision    recall  f1-score   support\n",
      "\n",
      "           0       0.84      0.86      0.85      1055\n",
      "           1       0.82      0.79      0.81       853\n",
      "\n",
      "    accuracy                           0.83      1908\n",
      "   macro avg       0.83      0.83      0.83      1908\n",
      "weighted avg       0.83      0.83      0.83      1908\n",
      "\n",
      "----------------------------------------\n",
      "=== Random Forest ===\n",
      "Accuracy: 0.8852201257861635\n",
      "              precision    recall  f1-score   support\n",
      "\n",
      "           0       0.83      1.00      0.91      1055\n",
      "           1       1.00      0.75      0.85       853\n",
      "\n",
      "    accuracy                           0.89      1908\n",
      "   macro avg       0.91      0.87      0.88      1908\n",
      "weighted avg       0.90      0.89      0.88      1908\n",
      "\n",
      "----------------------------------------\n"
     ]
    }
   ],
   "source": [
    "# Evaluation Function\n",
    "def evaluate_model(name, y_true, y_pred):\n",
    "    print(f\"=== {name} ===\")\n",
    "    print(\"Accuracy:\", accuracy_score(y_true, y_pred))\n",
    "    print(classification_report(y_true, y_pred))\n",
    "    print(\"-\" * 40)\n",
    "\n",
    "# Comparing the Results\n",
    "evaluate_model(\"Logistic Regression\", y_test, log_pred)\n",
    "evaluate_model(\"Decision Tree\", y_test, tree_pred)\n",
    "evaluate_model(\"Random Forest\", y_test, forest_pred)"
   ]
  },
  {
   "cell_type": "code",
   "execution_count": 133,
   "id": "2cf6ffc6",
   "metadata": {},
   "outputs": [],
   "source": [
    "from sklearn.metrics import classification_report, accuracy_score\n",
    "import matplotlib.pyplot as plt\n",
    "\n",
    "# Dictionary to store scores\n",
    "model_scores = {}\n",
    "\n",
    "models = {\n",
    "    \"Logistic Regression\": LogisticRegression(),\n",
    "    \"Decision Tree\": DecisionTreeClassifier(),\n",
    "    \"Random Forest\": RandomForestClassifier()\n",
    "}\n",
    "\n",
    "for name, model in models.items():\n",
    "    model.fit(X_train, y_train)\n",
    "    y_pred = model.predict(X_test)\n",
    "    report = classification_report(y_test, y_pred, output_dict=True)\n",
    "    \n",
    "    model_scores[name] = {\n",
    "        \"Accuracy\": accuracy_score(y_test, y_pred),\n",
    "        \"Precision\": report['1']['precision'],   # class 1 = attack\n",
    "        \"Recall\": report['1']['recall'],\n",
    "        \"F1-Score\": report['1']['f1-score']\n",
    "    }\n"
   ]
  },
  {
   "cell_type": "code",
   "execution_count": 134,
   "id": "cb06df1e",
   "metadata": {},
   "outputs": [
    {
     "data": {
      "image/png": "[encoded data removed]",
      "text/plain": [
       "<Figure size 800x500 with 1 Axes>"
      ]
     },
     "metadata": {},
     "output_type": "display_data"
    },
    {
     "data": {
      "image/png": "[encoded data removed]",
      "text/plain": [
       "<Figure size 1000x600 with 1 Axes>"
      ]
     },
     "metadata": {},
     "output_type": "display_data"
    }
   ],
   "source": [
    "# Convert to DataFrame for easier plotting\n",
    "import pandas as pd\n",
    "\n",
    "scores_df = pd.DataFrame(model_scores).T  # Transpose for plotting\n",
    "\n",
    "# Plot Accuracy\n",
    "scores_df['Accuracy'].plot(kind='bar', figsize=(8, 5), color='skyblue')\n",
    "plt.title(\"Model Accuracy Comparison\")\n",
    "plt.ylabel(\"Accuracy\")\n",
    "plt.ylim(0, 1)\n",
    "plt.xticks(rotation=45)\n",
    "plt.grid(True, axis='y')\n",
    "plt.tight_layout()\n",
    "plt.show()\n",
    "\n",
    "# Plot Precision, Recall, F1-Score\n",
    "scores_df[['Precision', 'Recall', 'F1-Score']].plot(kind='bar', figsize=(10, 6))\n",
    "plt.title(\"Precision, Recall, F1-Score for Class 1 (Attack)\")\n",
    "plt.ylabel(\"Score\")\n",
    "plt.ylim(0, 1)\n",
    "plt.xticks(rotation=45)\n",
    "plt.grid(True, axis='y')\n",
    "plt.tight_layout()\n",
    "plt.show()\n"
   ]
  },
  {
   "cell_type": "code",
   "execution_count": 135,
   "id": "7e83f0e7",
   "metadata": {},
   "outputs": [
    {
     "data": {
      "image/png": "[encoded data removed]",
      "text/plain": [
       "<Figure size 640x480 with 2 Axes>"
      ]
     },
     "metadata": {},
     "output_type": "display_data"
    },
    {
     "data": {
      "image/png": "[encoded data removed]",
      "text/plain": [
       "<Figure size 640x480 with 2 Axes>"
      ]
     },
     "metadata": {},
     "output_type": "display_data"
    },
    {
     "data": {
      "image/png": "[encoded data removed]",
      "text/plain": [
       "<Figure size 640x480 with 2 Axes>"
      ]
     },
     "metadata": {},
     "output_type": "display_data"
    }
   ],
   "source": [
    "from sklearn.metrics import confusion_matrix\n",
    "import seaborn as sns\n",
    "\n",
    "def plot_confusion_matrix(y_true, y_pred, title):\n",
    "    cm = confusion_matrix(y_true, y_pred)\n",
    "    sns.heatmap(cm, annot=True, fmt='d', cmap='Blues')\n",
    "    plt.title(f\"{title} - Confusion Matrix\")\n",
    "    plt.xlabel(\"Predicted\")\n",
    "    plt.ylabel(\"Actual\")\n",
    "    plt.show()\n",
    "\n",
    "# Plot for each model\n",
    "for name, model in models.items():\n",
    "    y_pred = model.predict(X_test)\n",
    "    plot_confusion_matrix(y_test, y_pred, name)\n"
   ]
  },
  {
   "cell_type": "markdown",
   "id": "9b020a6d",
   "metadata": {},
   "source": [
    "### Best Model to Use: RANDOM FOREST\n",
    "- Perfect precision (1.00) for attacks → Every predicted attack was indeed an attack.\n",
    "\n",
    "- Recall (0.75) is higher than Logistic Regression and close to Decision Tree (0.80), but the F1-score (0.85) is significantly higher, which means better balance.\n",
    "\n",
    "- Highest accuracy (0.89) overall."
   ]
  },
  {
   "cell_type": "code",
   "execution_count": null,
   "id": "1c8e1d6b",
   "metadata": {},
   "outputs": [],
   "source": []
  },
  {
   "cell_type": "markdown",
   "id": "11c5bbc8",
   "metadata": {},
   "source": [
    "## 2. UNSUPERVISED LEARNING TECHNIQUES"
   ]
  },
  {
   "cell_type": "markdown",
   "id": "6c87a836",
   "metadata": {},
   "source": [
    "##### KMean clustering"
   ]
  },
  {
   "cell_type": "markdown",
   "id": "baefae71",
   "metadata": {},
   "source": [
    "#### Marilyn : Using the elbow method to determine the optimal number of clusters"
   ]
  },
  {
   "cell_type": "code",
   "execution_count": 136,
   "id": "3008b4ed",
   "metadata": {},
   "outputs": [],
   "source": [
    "# Step 1: Copy and remove the target variable\n",
    "X_cluster = df.drop(columns=['attack_detected', 'usession_id'])  # session_id is not useful"
   ]
  },
  {
   "cell_type": "code",
   "execution_count": 137,
   "id": "1834226c",
   "metadata": {},
   "outputs": [
    {
     "data": {
      "image/png": "[encoded data removed]",
      "text/plain": [
       "<Figure size 800x500 with 1 Axes>"
      ]
     },
     "metadata": {},
     "output_type": "display_data"
    }
   ],
   "source": [
    "from sklearn.cluster import KMeans\n",
    "import matplotlib.pyplot as plt\n",
    "\n",
    "# Optional: Encode categorical variables if not already encoded\n",
    "from sklearn.preprocessing import LabelEncoder\n",
    "categorical_cols = ['protocol_type', 'encryption_used', 'browser_type', 'unusual_time_access']\n",
    "le = LabelEncoder()\n",
    "for col in categorical_cols:\n",
    "    X_cluster[col] = le.fit_transform(X_cluster[col])\n",
    "\n",
    "# Optional: Scale numerical features\n",
    "from sklearn.preprocessing import StandardScaler\n",
    "scaler = StandardScaler()\n",
    "X_scaled = scaler.fit_transform(X_cluster)\n",
    "\n",
    "# Step 2: Run KMeans for a range of k values\n",
    "inertia = []\n",
    "k_range = range(1, 11)\n",
    "\n",
    "for k in k_range:\n",
    "    kmeans = KMeans(n_clusters=k, random_state=42)\n",
    "    kmeans.fit(X_scaled)\n",
    "    inertia.append(kmeans.inertia_)\n",
    "\n",
    "# Step 3: Plot the Elbow Curve\n",
    "plt.figure(figsize=(8, 5))\n",
    "plt.plot(k_range, inertia, marker='o')\n",
    "plt.title(\"Elbow Method For Optimal k\")\n",
    "plt.xlabel(\"Number of Clusters (k)\")\n",
    "plt.ylabel(\"Inertia (Within-Cluster Sum of Squares)\")\n",
    "plt.xticks(k_range)\n",
    "plt.grid(True)\n",
    "plt.show()\n"
   ]
  },
  {
   "cell_type": "markdown",
   "id": "05ba3277",
   "metadata": {},
   "source": [
    "- From the graph above the most suitable number of clusters will be 4 becuase the rate of decrease in inertia starts to flatten — meaning you’re capturing most of the natural structure in the data without overfitting."
   ]
  },
  {
   "cell_type": "code",
   "execution_count": 138,
   "id": "f1b5b4de",
   "metadata": {},
   "outputs": [
    {
     "data": {
      "text/html": [
       "<style>#sk-container-id-4 {\n",
       "  /* Definition of color scheme common for light and dark mode */\n",
       "  --sklearn-color-text: #000;\n",
       "  --sklearn-color-text-muted: #666;\n",
       "  --sklearn-color-line: gray;\n",
       "  /* Definition of color scheme for unfitted estimators */\n",
       "  --sklearn-color-unfitted-level-0: #fff5e6;\n",
       "  --sklearn-color-unfitted-level-1: #f6e4d2;\n",
       "  --sklearn-color-unfitted-level-2: #ffe0b3;\n",
       "  --sklearn-color-unfitted-level-3: chocolate;\n",
       "  /* Definition of color scheme for fitted estimators */\n",
       "  --sklearn-color-fitted-level-0: #f0f8ff;\n",
       "  --sklearn-color-fitted-level-1: #d4ebff;\n",
       "  --sklearn-color-fitted-level-2: #b3dbfd;\n",
       "  --sklearn-color-fitted-level-3: cornflowerblue;\n",
       "\n",
       "  /* Specific color for light theme */\n",
       "  --sklearn-color-text-on-default-background: var(--sg-text-color, var(--theme-code-foreground, var(--jp-content-font-color1, black)));\n",
       "  --sklearn-color-background: var(--sg-background-color, var(--theme-background, var(--jp-layout-color0, white)));\n",
       "  --sklearn-color-border-box: var(--sg-text-color, var(--theme-code-foreground, var(--jp-content-font-color1, black)));\n",
       "  --sklearn-color-icon: #696969;\n",
       "\n",
       "  @media (prefers-color-scheme: dark) {\n",
       "    /* Redefinition of color scheme for dark theme */\n",
       "    --sklearn-color-text-on-default-background: var(--sg-text-color, var(--theme-code-foreground, var(--jp-content-font-color1, white)));\n",
       "    --sklearn-color-background: var(--sg-background-color, var(--theme-background, var(--jp-layout-color0, #111)));\n",
       "    --sklearn-color-border-box: var(--sg-text-color, var(--theme-code-foreground, var(--jp-content-font-color1, white)));\n",
       "    --sklearn-color-icon: #878787;\n",
       "  }\n",
       "}\n",
       "\n",
       "#sk-container-id-4 {\n",
       "  color: var(--sklearn-color-text);\n",
       "}\n",
       "\n",
       "#sk-container-id-4 pre {\n",
       "  padding: 0;\n",
       "}\n",
       "\n",
       "#sk-container-id-4 input.sk-hidden--visually {\n",
       "  border: 0;\n",
       "  clip: rect(1px 1px 1px 1px);\n",
       "  clip: rect(1px, 1px, 1px, 1px);\n",
       "  height: 1px;\n",
       "  margin: -1px;\n",
       "  overflow: hidden;\n",
       "  padding: 0;\n",
       "  position: absolute;\n",
       "  width: 1px;\n",
       "}\n",
       "\n",
       "#sk-container-id-4 div.sk-dashed-wrapped {\n",
       "  border: 1px dashed var(--sklearn-color-line);\n",
       "  margin: 0 0.4em 0.5em 0.4em;\n",
       "  box-sizing: border-box;\n",
       "  padding-bottom: 0.4em;\n",
       "  background-color: var(--sklearn-color-background);\n",
       "}\n",
       "\n",
       "#sk-container-id-4 div.sk-container {\n",
       "  /* jupyter's `normalize.less` sets `[hidden] { display: none; }`\n",
       "     but bootstrap.min.css set `[hidden] { display: none !important; }`\n",
       "     so we also need the `!important` here to be able to override the\n",
       "     default hidden behavior on the sphinx rendered scikit-learn.org.\n",
       "     See: https://github.com/scikit-learn/scikit-learn/issues/21755 */\n",
       "  display: inline-block !important;\n",
       "  position: relative;\n",
       "}\n",
       "\n",
       "#sk-container-id-4 div.sk-text-repr-fallback {\n",
       "  display: none;\n",
       "}\n",
       "\n",
       "div.sk-parallel-item,\n",
       "div.sk-serial,\n",
       "div.sk-item {\n",
       "  /* draw centered vertical line to link estimators */\n",
       "  background-image: linear-gradient(var(--sklearn-color-text-on-default-background), var(--sklearn-color-text-on-default-background));\n",
       "  background-size: 2px 100%;\n",
       "  background-repeat: no-repeat;\n",
       "  background-position: center center;\n",
       "}\n",
       "\n",
       "/* Parallel-specific style estimator block */\n",
       "\n",
       "#sk-container-id-4 div.sk-parallel-item::after {\n",
       "  content: \"\";\n",
       "  width: 100%;\n",
       "  border-bottom: 2px solid var(--sklearn-color-text-on-default-background);\n",
       "  flex-grow: 1;\n",
       "}\n",
       "\n",
       "#sk-container-id-4 div.sk-parallel {\n",
       "  display: flex;\n",
       "  align-items: stretch;\n",
       "  justify-content: center;\n",
       "  background-color: var(--sklearn-color-background);\n",
       "  position: relative;\n",
       "}\n",
       "\n",
       "#sk-container-id-4 div.sk-parallel-item {\n",
       "  display: flex;\n",
       "  flex-direction: column;\n",
       "}\n",
       "\n",
       "#sk-container-id-4 div.sk-parallel-item:first-child::after {\n",
       "  align-self: flex-end;\n",
       "  width: 50%;\n",
       "}\n",
       "\n",
       "#sk-container-id-4 div.sk-parallel-item:last-child::after {\n",
       "  align-self: flex-start;\n",
       "  width: 50%;\n",
       "}\n",
       "\n",
       "#sk-container-id-4 div.sk-parallel-item:only-child::after {\n",
       "  width: 0;\n",
       "}\n",
       "\n",
       "/* Serial-specific style estimator block */\n",
       "\n",
       "#sk-container-id-4 div.sk-serial {\n",
       "  display: flex;\n",
       "  flex-direction: column;\n",
       "  align-items: center;\n",
       "  background-color: var(--sklearn-color-background);\n",
       "  padding-right: 1em;\n",
       "  padding-left: 1em;\n",
       "}\n",
       "\n",
       "\n",
       "/* Toggleable style: style used for estimator/Pipeline/ColumnTransformer box that is\n",
       "clickable and can be expanded/collapsed.\n",
       "- Pipeline and ColumnTransformer use this feature and define the default style\n",
       "- Estimators will overwrite some part of the style using the `sk-estimator` class\n",
       "*/\n",
       "\n",
       "/* Pipeline and ColumnTransformer style (default) */\n",
       "\n",
       "#sk-container-id-4 div.sk-toggleable {\n",
       "  /* Default theme specific background. It is overwritten whether we have a\n",
       "  specific estimator or a Pipeline/ColumnTransformer */\n",
       "  background-color: var(--sklearn-color-background);\n",
       "}\n",
       "\n",
       "/* Toggleable label */\n",
       "#sk-container-id-4 label.sk-toggleable__label {\n",
       "  cursor: pointer;\n",
       "  display: flex;\n",
       "  width: 100%;\n",
       "  margin-bottom: 0;\n",
       "  padding: 0.5em;\n",
       "  box-sizing: border-box;\n",
       "  text-align: center;\n",
       "  align-items: start;\n",
       "  justify-content: space-between;\n",
       "  gap: 0.5em;\n",
       "}\n",
       "\n",
       "#sk-container-id-4 label.sk-toggleable__label .caption {\n",
       "  font-size: 0.6rem;\n",
       "  font-weight: lighter;\n",
       "  color: var(--sklearn-color-text-muted);\n",
       "}\n",
       "\n",
       "#sk-container-id-4 label.sk-toggleable__label-arrow:before {\n",
       "  /* Arrow on the left of the label */\n",
       "  content: \"▸\";\n",
       "  float: left;\n",
       "  margin-right: 0.25em;\n",
       "  color: var(--sklearn-color-icon);\n",
       "}\n",
       "\n",
       "#sk-container-id-4 label.sk-toggleable__label-arrow:hover:before {\n",
       "  color: var(--sklearn-color-text);\n",
       "}\n",
       "\n",
       "/* Toggleable content - dropdown */\n",
       "\n",
       "#sk-container-id-4 div.sk-toggleable__content {\n",
       "  display: none;\n",
       "  text-align: left;\n",
       "  /* unfitted */\n",
       "  background-color: var(--sklearn-color-unfitted-level-0);\n",
       "}\n",
       "\n",
       "#sk-container-id-4 div.sk-toggleable__content.fitted {\n",
       "  /* fitted */\n",
       "  background-color: var(--sklearn-color-fitted-level-0);\n",
       "}\n",
       "\n",
       "#sk-container-id-4 div.sk-toggleable__content pre {\n",
       "  margin: 0.2em;\n",
       "  border-radius: 0.25em;\n",
       "  color: var(--sklearn-color-text);\n",
       "  /* unfitted */\n",
       "  background-color: var(--sklearn-color-unfitted-level-0);\n",
       "}\n",
       "\n",
       "#sk-container-id-4 div.sk-toggleable__content.fitted pre {\n",
       "  /* unfitted */\n",
       "  background-color: var(--sklearn-color-fitted-level-0);\n",
       "}\n",
       "\n",
       "#sk-container-id-4 input.sk-toggleable__control:checked~div.sk-toggleable__content {\n",
       "  /* Expand drop-down */\n",
       "  display: block;\n",
       "  width: 100%;\n",
       "  overflow: visible;\n",
       "}\n",
       "\n",
       "#sk-container-id-4 input.sk-toggleable__control:checked~label.sk-toggleable__label-arrow:before {\n",
       "  content: \"▾\";\n",
       "}\n",
       "\n",
       "/* Pipeline/ColumnTransformer-specific style */\n",
       "\n",
       "#sk-container-id-4 div.sk-label input.sk-toggleable__control:checked~label.sk-toggleable__label {\n",
       "  color: var(--sklearn-color-text);\n",
       "  background-color: var(--sklearn-color-unfitted-level-2);\n",
       "}\n",
       "\n",
       "#sk-container-id-4 div.sk-label.fitted input.sk-toggleable__control:checked~label.sk-toggleable__label {\n",
       "  background-color: var(--sklearn-color-fitted-level-2);\n",
       "}\n",
       "\n",
       "/* Estimator-specific style */\n",
       "\n",
       "/* Colorize estimator box */\n",
       "#sk-container-id-4 div.sk-estimator input.sk-toggleable__control:checked~label.sk-toggleable__label {\n",
       "  /* unfitted */\n",
       "  background-color: var(--sklearn-color-unfitted-level-2);\n",
       "}\n",
       "\n",
       "#sk-container-id-4 div.sk-estimator.fitted input.sk-toggleable__control:checked~label.sk-toggleable__label {\n",
       "  /* fitted */\n",
       "  background-color: var(--sklearn-color-fitted-level-2);\n",
       "}\n",
       "\n",
       "#sk-container-id-4 div.sk-label label.sk-toggleable__label,\n",
       "#sk-container-id-4 div.sk-label label {\n",
       "  /* The background is the default theme color */\n",
       "  color: var(--sklearn-color-text-on-default-background);\n",
       "}\n",
       "\n",
       "/* On hover, darken the color of the background */\n",
       "#sk-container-id-4 div.sk-label:hover label.sk-toggleable__label {\n",
       "  color: var(--sklearn-color-text);\n",
       "  background-color: var(--sklearn-color-unfitted-level-2);\n",
       "}\n",
       "\n",
       "/* Label box, darken color on hover, fitted */\n",
       "#sk-container-id-4 div.sk-label.fitted:hover label.sk-toggleable__label.fitted {\n",
       "  color: var(--sklearn-color-text);\n",
       "  background-color: var(--sklearn-color-fitted-level-2);\n",
       "}\n",
       "\n",
       "/* Estimator label */\n",
       "\n",
       "#sk-container-id-4 div.sk-label label {\n",
       "  font-family: monospace;\n",
       "  font-weight: bold;\n",
       "  display: inline-block;\n",
       "  line-height: 1.2em;\n",
       "}\n",
       "\n",
       "#sk-container-id-4 div.sk-label-container {\n",
       "  text-align: center;\n",
       "}\n",
       "\n",
       "/* Estimator-specific */\n",
       "#sk-container-id-4 div.sk-estimator {\n",
       "  font-family: monospace;\n",
       "  border: 1px dotted var(--sklearn-color-border-box);\n",
       "  border-radius: 0.25em;\n",
       "  box-sizing: border-box;\n",
       "  margin-bottom: 0.5em;\n",
       "  /* unfitted */\n",
       "  background-color: var(--sklearn-color-unfitted-level-0);\n",
       "}\n",
       "\n",
       "#sk-container-id-4 div.sk-estimator.fitted {\n",
       "  /* fitted */\n",
       "  background-color: var(--sklearn-color-fitted-level-0);\n",
       "}\n",
       "\n",
       "/* on hover */\n",
       "#sk-container-id-4 div.sk-estimator:hover {\n",
       "  /* unfitted */\n",
       "  background-color: var(--sklearn-color-unfitted-level-2);\n",
       "}\n",
       "\n",
       "#sk-container-id-4 div.sk-estimator.fitted:hover {\n",
       "  /* fitted */\n",
       "  background-color: var(--sklearn-color-fitted-level-2);\n",
       "}\n",
       "\n",
       "/* Specification for estimator info (e.g. \"i\" and \"?\") */\n",
       "\n",
       "/* Common style for \"i\" and \"?\" */\n",
       "\n",
       ".sk-estimator-doc-link,\n",
       "a:link.sk-estimator-doc-link,\n",
       "a:visited.sk-estimator-doc-link {\n",
       "  float: right;\n",
       "  font-size: smaller;\n",
       "  line-height: 1em;\n",
       "  font-family: monospace;\n",
       "  background-color: var(--sklearn-color-background);\n",
       "  border-radius: 1em;\n",
       "  height: 1em;\n",
       "  width: 1em;\n",
       "  text-decoration: none !important;\n",
       "  margin-left: 0.5em;\n",
       "  text-align: center;\n",
       "  /* unfitted */\n",
       "  border: var(--sklearn-color-unfitted-level-1) 1pt solid;\n",
       "  color: var(--sklearn-color-unfitted-level-1);\n",
       "}\n",
       "\n",
       ".sk-estimator-doc-link.fitted,\n",
       "a:link.sk-estimator-doc-link.fitted,\n",
       "a:visited.sk-estimator-doc-link.fitted {\n",
       "  /* fitted */\n",
       "  border: var(--sklearn-color-fitted-level-1) 1pt solid;\n",
       "  color: var(--sklearn-color-fitted-level-1);\n",
       "}\n",
       "\n",
       "/* On hover */\n",
       "div.sk-estimator:hover .sk-estimator-doc-link:hover,\n",
       ".sk-estimator-doc-link:hover,\n",
       "div.sk-label-container:hover .sk-estimator-doc-link:hover,\n",
       ".sk-estimator-doc-link:hover {\n",
       "  /* unfitted */\n",
       "  background-color: var(--sklearn-color-unfitted-level-3);\n",
       "  color: var(--sklearn-color-background);\n",
       "  text-decoration: none;\n",
       "}\n",
       "\n",
       "div.sk-estimator.fitted:hover .sk-estimator-doc-link.fitted:hover,\n",
       ".sk-estimator-doc-link.fitted:hover,\n",
       "div.sk-label-container:hover .sk-estimator-doc-link.fitted:hover,\n",
       ".sk-estimator-doc-link.fitted:hover {\n",
       "  /* fitted */\n",
       "  background-color: var(--sklearn-color-fitted-level-3);\n",
       "  color: var(--sklearn-color-background);\n",
       "  text-decoration: none;\n",
       "}\n",
       "\n",
       "/* Span, style for the box shown on hovering the info icon */\n",
       ".sk-estimator-doc-link span {\n",
       "  display: none;\n",
       "  z-index: 9999;\n",
       "  position: relative;\n",
       "  font-weight: normal;\n",
       "  right: .2ex;\n",
       "  padding: .5ex;\n",
       "  margin: .5ex;\n",
       "  width: min-content;\n",
       "  min-width: 20ex;\n",
       "  max-width: 50ex;\n",
       "  color: var(--sklearn-color-text);\n",
       "  box-shadow: 2pt 2pt 4pt #999;\n",
       "  /* unfitted */\n",
       "  background: var(--sklearn-color-unfitted-level-0);\n",
       "  border: .5pt solid var(--sklearn-color-unfitted-level-3);\n",
       "}\n",
       "\n",
       ".sk-estimator-doc-link.fitted span {\n",
       "  /* fitted */\n",
       "  background: var(--sklearn-color-fitted-level-0);\n",
       "  border: var(--sklearn-color-fitted-level-3);\n",
       "}\n",
       "\n",
       ".sk-estimator-doc-link:hover span {\n",
       "  display: block;\n",
       "}\n",
       "\n",
       "/* \"?\"-specific style due to the `<a>` HTML tag */\n",
       "\n",
       "#sk-container-id-4 a.estimator_doc_link {\n",
       "  float: right;\n",
       "  font-size: 1rem;\n",
       "  line-height: 1em;\n",
       "  font-family: monospace;\n",
       "  background-color: var(--sklearn-color-background);\n",
       "  border-radius: 1rem;\n",
       "  height: 1rem;\n",
       "  width: 1rem;\n",
       "  text-decoration: none;\n",
       "  /* unfitted */\n",
       "  color: var(--sklearn-color-unfitted-level-1);\n",
       "  border: var(--sklearn-color-unfitted-level-1) 1pt solid;\n",
       "}\n",
       "\n",
       "#sk-container-id-4 a.estimator_doc_link.fitted {\n",
       "  /* fitted */\n",
       "  border: var(--sklearn-color-fitted-level-1) 1pt solid;\n",
       "  color: var(--sklearn-color-fitted-level-1);\n",
       "}\n",
       "\n",
       "/* On hover */\n",
       "#sk-container-id-4 a.estimator_doc_link:hover {\n",
       "  /* unfitted */\n",
       "  background-color: var(--sklearn-color-unfitted-level-3);\n",
       "  color: var(--sklearn-color-background);\n",
       "  text-decoration: none;\n",
       "}\n",
       "\n",
       "#sk-container-id-4 a.estimator_doc_link.fitted:hover {\n",
       "  /* fitted */\n",
       "  background-color: var(--sklearn-color-fitted-level-3);\n",
       "}\n",
       "\n",
       ".estimator-table summary {\n",
       "    padding: .5rem;\n",
       "    font-family: monospace;\n",
       "    cursor: pointer;\n",
       "}\n",
       "\n",
       ".estimator-table details[open] {\n",
       "    padding-left: 0.1rem;\n",
       "    padding-right: 0.1rem;\n",
       "    padding-bottom: 0.3rem;\n",
       "}\n",
       "\n",
       ".estimator-table .parameters-table {\n",
       "    margin-left: auto !important;\n",
       "    margin-right: auto !important;\n",
       "}\n",
       "\n",
       ".estimator-table .parameters-table tr:nth-child(odd) {\n",
       "    background-color: #fff;\n",
       "}\n",
       "\n",
       ".estimator-table .parameters-table tr:nth-child(even) {\n",
       "    background-color: #f6f6f6;\n",
       "}\n",
       "\n",
       ".estimator-table .parameters-table tr:hover {\n",
       "    background-color: #e0e0e0;\n",
       "}\n",
       "\n",
       ".estimator-table table td {\n",
       "    border: 1px solid rgba(106, 105, 104, 0.232);\n",
       "}\n",
       "\n",
       ".user-set td {\n",
       "    color:rgb(255, 94, 0);\n",
       "    text-align: left;\n",
       "}\n",
       "\n",
       ".user-set td.value pre {\n",
       "    color:rgb(255, 94, 0) !important;\n",
       "    background-color: transparent !important;\n",
       "}\n",
       "\n",
       ".default td {\n",
       "    color: black;\n",
       "    text-align: left;\n",
       "}\n",
       "\n",
       ".user-set td i,\n",
       ".default td i {\n",
       "    color: black;\n",
       "}\n",
       "\n",
       ".copy-paste-icon {\n",
       "    background-image: url(data:image/svg+xml;base64,PHN2ZyB4bWxucz0iaHR0cDovL3d3dy53My5vcmcvMjAwMC9zdmciIHZpZXdCb3g9IjAgMCA0NDggNTEyIj48IS0tIUZvbnQgQXdlc29tZSBGcmVlIDYuNy4yIGJ5IEBmb250YXdlc29tZSAtIGh0dHBzOi8vZm9udGF3ZXNvbWUuY29tIExpY2Vuc2UgLSBodHRwczovL2ZvbnRhd2Vzb21lLmNvbS9saWNlbnNlL2ZyZWUgQ29weXJpZ2h0IDIwMjUgRm9udGljb25zLCBJbmMuLS0+PHBhdGggZD0iTTIwOCAwTDMzMi4xIDBjMTIuNyAwIDI0LjkgNS4xIDMzLjkgMTQuMWw2Ny45IDY3LjljOSA5IDE0LjEgMjEuMiAxNC4xIDMzLjlMNDQ4IDMzNmMwIDI2LjUtMjEuNSA0OC00OCA0OGwtMTkyIDBjLTI2LjUgMC00OC0yMS41LTQ4LTQ4bDAtMjg4YzAtMjYuNSAyMS41LTQ4IDQ4LTQ4ek00OCAxMjhsODAgMCAwIDY0LTY0IDAgMCAyNTYgMTkyIDAgMC0zMiA2NCAwIDAgNDhjMCAyNi41LTIxLjUgNDgtNDggNDhMNDggNTEyYy0yNi41IDAtNDgtMjEuNS00OC00OEwwIDE3NmMwLTI2LjUgMjEuNS00OCA0OC00OHoiLz48L3N2Zz4=);\n",
       "    background-repeat: no-repeat;\n",
       "    background-size: 14px 14px;\n",
       "    background-position: 0;\n",
       "    display: inline-block;\n",
       "    width: 14px;\n",
       "    height: 14px;\n",
       "    cursor: pointer;\n",
       "}\n",
       "</style><body><div id=\"sk-container-id-4\" class=\"sk-top-container\"><div class=\"sk-text-repr-fallback\"><pre>KMeans(n_clusters=4, random_state=42)</pre><b>In a Jupyter environment, please rerun this cell to show the HTML representation or trust the notebook. <br />On GitHub, the HTML representation is unable to render, please try loading this page with nbviewer.org.</b></div><div class=\"sk-container\" hidden><div class=\"sk-item\"><div class=\"sk-estimator fitted sk-toggleable\"><input class=\"sk-toggleable__control sk-hidden--visually\" id=\"sk-estimator-id-4\" type=\"checkbox\" checked><label for=\"sk-estimator-id-4\" class=\"sk-toggleable__label fitted sk-toggleable__label-arrow\"><div><div>KMeans</div></div><div><a class=\"sk-estimator-doc-link fitted\" rel=\"noreferrer\" target=\"_blank\" href=\"https://scikit-learn.org/1.7/modules/generated/sklearn.cluster.KMeans.html\">?<span>Documentation for KMeans</span></a><span class=\"sk-estimator-doc-link fitted\">i<span>Fitted</span></span></div></label><div class=\"sk-toggleable__content fitted\" data-param-prefix=\"\">\n",
       "        <div class=\"estimator-table\">\n",
       "            <details>\n",
       "                <summary>Parameters</summary>\n",
       "                <table class=\"parameters-table\">\n",
       "                  <tbody>\n",
       "                    \n",
       "        <tr class=\"user-set\">\n",
       "            <td><i class=\"copy-paste-icon\"\n",
       "                 onclick=\"copyToClipboard('n_clusters',\n",
       "                          this.parentElement.nextElementSibling)\"\n",
       "            ></i></td>\n",
       "            <td class=\"param\">n_clusters&nbsp;</td>\n",
       "            <td class=\"value\">4</td>\n",
       "        </tr>\n",
       "    \n",
       "\n",
       "        <tr class=\"default\">\n",
       "            <td><i class=\"copy-paste-icon\"\n",
       "                 onclick=\"copyToClipboard('init',\n",
       "                          this.parentElement.nextElementSibling)\"\n",
       "            ></i></td>\n",
       "            <td class=\"param\">init&nbsp;</td>\n",
       "            <td class=\"value\">&#x27;k-means++&#x27;</td>\n",
       "        </tr>\n",
       "    \n",
       "\n",
       "        <tr class=\"default\">\n",
       "            <td><i class=\"copy-paste-icon\"\n",
       "                 onclick=\"copyToClipboard('n_init',\n",
       "                          this.parentElement.nextElementSibling)\"\n",
       "            ></i></td>\n",
       "            <td class=\"param\">n_init&nbsp;</td>\n",
       "            <td class=\"value\">&#x27;auto&#x27;</td>\n",
       "        </tr>\n",
       "    \n",
       "\n",
       "        <tr class=\"default\">\n",
       "            <td><i class=\"copy-paste-icon\"\n",
       "                 onclick=\"copyToClipboard('max_iter',\n",
       "                          this.parentElement.nextElementSibling)\"\n",
       "            ></i></td>\n",
       "            <td class=\"param\">max_iter&nbsp;</td>\n",
       "            <td class=\"value\">300</td>\n",
       "        </tr>\n",
       "    \n",
       "\n",
       "        <tr class=\"default\">\n",
       "            <td><i class=\"copy-paste-icon\"\n",
       "                 onclick=\"copyToClipboard('tol',\n",
       "                          this.parentElement.nextElementSibling)\"\n",
       "            ></i></td>\n",
       "            <td class=\"param\">tol&nbsp;</td>\n",
       "            <td class=\"value\">0.0001</td>\n",
       "        </tr>\n",
       "    \n",
       "\n",
       "        <tr class=\"default\">\n",
       "            <td><i class=\"copy-paste-icon\"\n",
       "                 onclick=\"copyToClipboard('verbose',\n",
       "                          this.parentElement.nextElementSibling)\"\n",
       "            ></i></td>\n",
       "            <td class=\"param\">verbose&nbsp;</td>\n",
       "            <td class=\"value\">0</td>\n",
       "        </tr>\n",
       "    \n",
       "\n",
       "        <tr class=\"user-set\">\n",
       "            <td><i class=\"copy-paste-icon\"\n",
       "                 onclick=\"copyToClipboard('random_state',\n",
       "                          this.parentElement.nextElementSibling)\"\n",
       "            ></i></td>\n",
       "            <td class=\"param\">random_state&nbsp;</td>\n",
       "            <td class=\"value\">42</td>\n",
       "        </tr>\n",
       "    \n",
       "\n",
       "        <tr class=\"default\">\n",
       "            <td><i class=\"copy-paste-icon\"\n",
       "                 onclick=\"copyToClipboard('copy_x',\n",
       "                          this.parentElement.nextElementSibling)\"\n",
       "            ></i></td>\n",
       "            <td class=\"param\">copy_x&nbsp;</td>\n",
       "            <td class=\"value\">True</td>\n",
       "        </tr>\n",
       "    \n",
       "\n",
       "        <tr class=\"default\">\n",
       "            <td><i class=\"copy-paste-icon\"\n",
       "                 onclick=\"copyToClipboard('algorithm',\n",
       "                          this.parentElement.nextElementSibling)\"\n",
       "            ></i></td>\n",
       "            <td class=\"param\">algorithm&nbsp;</td>\n",
       "            <td class=\"value\">&#x27;lloyd&#x27;</td>\n",
       "        </tr>\n",
       "    \n",
       "                  </tbody>\n",
       "                </table>\n",
       "            </details>\n",
       "        </div>\n",
       "    </div></div></div></div></div><script>function copyToClipboard(text, element) {\n",
       "    // Get the parameter prefix from the closest toggleable content\n",
       "    const toggleableContent = element.closest('.sk-toggleable__content');\n",
       "    const paramPrefix = toggleableContent ? toggleableContent.dataset.paramPrefix : '';\n",
       "    const fullParamName = paramPrefix ? `${paramPrefix}${text}` : text;\n",
       "\n",
       "    const originalStyle = element.style;\n",
       "    const computedStyle = window.getComputedStyle(element);\n",
       "    const originalWidth = computedStyle.width;\n",
       "    const originalHTML = element.innerHTML.replace('Copied!', '');\n",
       "\n",
       "    navigator.clipboard.writeText(fullParamName)\n",
       "        .then(() => {\n",
       "            element.style.width = originalWidth;\n",
       "            element.style.color = 'green';\n",
       "            element.innerHTML = \"Copied!\";\n",
       "\n",
       "            setTimeout(() => {\n",
       "                element.innerHTML = originalHTML;\n",
       "                element.style = originalStyle;\n",
       "            }, 2000);\n",
       "        })\n",
       "        .catch(err => {\n",
       "            console.error('Failed to copy:', err);\n",
       "            element.style.color = 'red';\n",
       "            element.innerHTML = \"Failed!\";\n",
       "            setTimeout(() => {\n",
       "                element.innerHTML = originalHTML;\n",
       "                element.style = originalStyle;\n",
       "            }, 2000);\n",
       "        });\n",
       "    return false;\n",
       "}\n",
       "\n",
       "document.querySelectorAll('.fa-regular.fa-copy').forEach(function(element) {\n",
       "    const toggleableContent = element.closest('.sk-toggleable__content');\n",
       "    const paramPrefix = toggleableContent ? toggleableContent.dataset.paramPrefix : '';\n",
       "    const paramName = element.parentElement.nextElementSibling.textContent.trim();\n",
       "    const fullParamName = paramPrefix ? `${paramPrefix}${paramName}` : paramName;\n",
       "\n",
       "    element.setAttribute('title', fullParamName);\n",
       "});\n",
       "</script></body>"
      ],
      "text/plain": [
       "KMeans(n_clusters=4, random_state=42)"
      ]
     },
     "execution_count": 138,
     "metadata": {},
     "output_type": "execute_result"
    }
   ],
   "source": [
    "# Set number of clusters\n",
    "k = 4\n",
    "kmeans = KMeans(n_clusters=k, random_state=42)\n",
    "kmeans.fit(X_scaled)"
   ]
  },
  {
   "cell_type": "code",
   "execution_count": 139,
   "id": "949517ff",
   "metadata": {},
   "outputs": [
    {
     "name": "stdout",
     "output_type": "stream",
     "text": [
      "   network_packet_size protocol_type  login_attempts  session_duration  \\\n",
      "0                  599           TCP               4        492.983263   \n",
      "1                  472           TCP               3       1557.996461   \n",
      "\n",
      "  encryption_used  ip_reputation_score  failed_logins browser_type  \\\n",
      "0             DES             0.606818              1         Edge   \n",
      "1             DES             0.301569              0      Firefox   \n",
      "\n",
      "   unusual_time_access  attack_detected  cluster  \n",
      "0                    0                1        3  \n",
      "1                    0                0        0  \n"
     ]
    }
   ],
   "source": [
    "# Add cluster labels to your original dataframe\n",
    "df_new['cluster'] = kmeans.labels_\n",
    "print(df_new.head(2))\n"
   ]
  },
  {
   "cell_type": "code",
   "execution_count": 140,
   "id": "ba5138c1",
   "metadata": {},
   "outputs": [
    {
     "data": {
      "image/png": "[encoded data removed]",
      "text/plain": [
       "<Figure size 800x600 with 2 Axes>"
      ]
     },
     "metadata": {},
     "output_type": "display_data"
    }
   ],
   "source": [
    "from sklearn.decomposition import PCA\n",
    "import matplotlib.pyplot as plt\n",
    "\n",
    "# Reduce dimensions to 2 for visualization\n",
    "pca = PCA(n_components=2)\n",
    "X_pca = pca.fit_transform(X_scaled)\n",
    "\n",
    "# Plot\n",
    "plt.figure(figsize=(8, 6))\n",
    "plt.scatter(X_pca[:, 0], X_pca[:, 1], c=kmeans.labels_, cmap='viridis', s=30)\n",
    "plt.title(\"KMeans Clustering with k=4\")\n",
    "plt.xlabel(\"PCA Component 1\")\n",
    "plt.ylabel(\"PCA Component 2\")\n",
    "plt.colorbar(label='Cluster')\n",
    "plt.show()\n"
   ]
  },
  {
   "cell_type": "code",
   "execution_count": 141,
   "id": "e5a6da0f",
   "metadata": {},
   "outputs": [
    {
     "name": "stdout",
     "output_type": "stream",
     "text": [
      "attack_detected     0     1\n",
      "cluster                    \n",
      "0                1315  1089\n",
      "1                 586   539\n",
      "2                2272   988\n",
      "3                1100  1648\n"
     ]
    }
   ],
   "source": [
    "comparison=pd.crosstab(df_new['cluster'], df_new['attack_detected'])\n",
    "print(comparison)\n"
   ]
  },
  {
   "cell_type": "code",
   "execution_count": 142,
   "id": "d4d43522",
   "metadata": {},
   "outputs": [
    {
     "data": {
      "application/vnd.microsoft.datawrangler.viewer.v0+json": {
       "columns": [
        {
         "name": "cluster",
         "rawType": "int32",
         "type": "integer"
        },
        {
         "name": "network_packet_size",
         "rawType": "float64",
         "type": "float"
        },
        {
         "name": "login_attempts",
         "rawType": "float64",
         "type": "float"
        },
        {
         "name": "session_duration",
         "rawType": "float64",
         "type": "float"
        },
        {
         "name": "ip_reputation_score",
         "rawType": "float64",
         "type": "float"
        },
        {
         "name": "failed_logins",
         "rawType": "float64",
         "type": "float"
        },
        {
         "name": "unusual_time_access",
         "rawType": "float64",
         "type": "float"
        },
        {
         "name": "attack_detected",
         "rawType": "float64",
         "type": "float"
        }
       ],
       "ref": "f642d56c-bf06-4fab-ba77-1b84ca10fcb6",
       "rows": [
        [
         "0",
         "513.5861064891847",
         "3.8465058236272878",
         "615.4045132002806",
         "0.31289444030203795",
         "1.4987520798668885",
         "0.1447587354409318",
         "0.45299500831946754"
        ],
        [
         "1",
         "518.6515555555555",
         "4.0",
         "2412.8024474385807",
         "0.31502947042492097",
         "1.6488888888888888",
         "0.19377777777777777",
         "0.4791111111111111"
        ],
        [
         "2",
         "528.6199386503067",
         "3.2303680981595093",
         "540.16103099296",
         "0.24166850086092745",
         "1.469325153374233",
         "0.15521472392638036",
         "0.3030674846625767"
        ],
        [
         "3",
         "448.0211062590975",
         "5.158660844250364",
         "584.2983523307082",
         "0.4605257655449783",
         "1.5382096069868996",
         "0.13027656477438138",
         "0.5997088791848617"
        ]
       ],
       "shape": {
        "columns": 7,
        "rows": 4
       }
      },
      "text/html": [
       "<div>\n",
       "<style scoped>\n",
       "    .dataframe tbody tr th:only-of-type {\n",
       "        vertical-align: middle;\n",
       "    }\n",
       "\n",
       "    .dataframe tbody tr th {\n",
       "        vertical-align: top;\n",
       "    }\n",
       "\n",
       "    .dataframe thead th {\n",
       "        text-align: right;\n",
       "    }\n",
       "</style>\n",
       "<table border=\"1\" class=\"dataframe\">\n",
       "  <thead>\n",
       "    <tr style=\"text-align: right;\">\n",
       "      <th></th>\n",
       "      <th>network_packet_size</th>\n",
       "      <th>login_attempts</th>\n",
       "      <th>session_duration</th>\n",
       "      <th>ip_reputation_score</th>\n",
       "      <th>failed_logins</th>\n",
       "      <th>unusual_time_access</th>\n",
       "      <th>attack_detected</th>\n",
       "    </tr>\n",
       "    <tr>\n",
       "      <th>cluster</th>\n",
       "      <th></th>\n",
       "      <th></th>\n",
       "      <th></th>\n",
       "      <th></th>\n",
       "      <th></th>\n",
       "      <th></th>\n",
       "      <th></th>\n",
       "    </tr>\n",
       "  </thead>\n",
       "  <tbody>\n",
       "    <tr>\n",
       "      <th>0</th>\n",
       "      <td>513.586106</td>\n",
       "      <td>3.846506</td>\n",
       "      <td>615.404513</td>\n",
       "      <td>0.312894</td>\n",
       "      <td>1.498752</td>\n",
       "      <td>0.144759</td>\n",
       "      <td>0.452995</td>\n",
       "    </tr>\n",
       "    <tr>\n",
       "      <th>1</th>\n",
       "      <td>518.651556</td>\n",
       "      <td>4.000000</td>\n",
       "      <td>2412.802447</td>\n",
       "      <td>0.315029</td>\n",
       "      <td>1.648889</td>\n",
       "      <td>0.193778</td>\n",
       "      <td>0.479111</td>\n",
       "    </tr>\n",
       "    <tr>\n",
       "      <th>2</th>\n",
       "      <td>528.619939</td>\n",
       "      <td>3.230368</td>\n",
       "      <td>540.161031</td>\n",
       "      <td>0.241669</td>\n",
       "      <td>1.469325</td>\n",
       "      <td>0.155215</td>\n",
       "      <td>0.303067</td>\n",
       "    </tr>\n",
       "    <tr>\n",
       "      <th>3</th>\n",
       "      <td>448.021106</td>\n",
       "      <td>5.158661</td>\n",
       "      <td>584.298352</td>\n",
       "      <td>0.460526</td>\n",
       "      <td>1.538210</td>\n",
       "      <td>0.130277</td>\n",
       "      <td>0.599709</td>\n",
       "    </tr>\n",
       "  </tbody>\n",
       "</table>\n",
       "</div>"
      ],
      "text/plain": [
       "         network_packet_size  login_attempts  session_duration  \\\n",
       "cluster                                                          \n",
       "0                 513.586106        3.846506        615.404513   \n",
       "1                 518.651556        4.000000       2412.802447   \n",
       "2                 528.619939        3.230368        540.161031   \n",
       "3                 448.021106        5.158661        584.298352   \n",
       "\n",
       "         ip_reputation_score  failed_logins  unusual_time_access  \\\n",
       "cluster                                                            \n",
       "0                   0.312894       1.498752             0.144759   \n",
       "1                   0.315029       1.648889             0.193778   \n",
       "2                   0.241669       1.469325             0.155215   \n",
       "3                   0.460526       1.538210             0.130277   \n",
       "\n",
       "         attack_detected  \n",
       "cluster                   \n",
       "0               0.452995  \n",
       "1               0.479111  \n",
       "2               0.303067  \n",
       "3               0.599709  "
      ]
     },
     "execution_count": 142,
     "metadata": {},
     "output_type": "execute_result"
    }
   ],
   "source": [
    "df_new.groupby('cluster').mean(numeric_only=True)\n"
   ]
  },
  {
   "cell_type": "code",
   "execution_count": 143,
   "id": "748eea72",
   "metadata": {},
   "outputs": [
    {
     "data": {
      "text/plain": [
       "<Axes: xlabel='cluster'>"
      ]
     },
     "execution_count": 143,
     "metadata": {},
     "output_type": "execute_result"
    },
    {
     "data": {
      "image/png": "[encoded data removed]",
      "text/plain": [
       "<Figure size 640x480 with 1 Axes>"
      ]
     },
     "metadata": {},
     "output_type": "display_data"
    }
   ],
   "source": [
    "df_new.groupby('cluster')['login_attempts'].mean().plot(kind='bar')\n"
   ]
  },
  {
   "cell_type": "markdown",
   "id": "410ab6e8",
   "metadata": {},
   "source": [
    "##### from the chart above we see cluster 3 has the highest login attempts and so should be flagged as such. "
   ]
  },
  {
   "cell_type": "markdown",
   "id": "f1931d5a",
   "metadata": {},
   "source": [
    "#### DBSCAN: Density-Based Spatial Clustering of Applications with Noise\n",
    "- DBSCAN forms clusters based on the density of data points and automatically detects outliers (called noise)"
   ]
  },
  {
   "cell_type": "code",
   "execution_count": 144,
   "id": "b54de912",
   "metadata": {},
   "outputs": [],
   "source": [
    "N = df_new[['network_packet_size', 'login_attempts', 'session_duration',\n",
    "            'ip_reputation_score', 'failed_logins', 'unusual_time_access']]\n",
    "\n",
    "scaler = StandardScaler()\n",
    "N_scaled = scaler.fit_transform(X)"
   ]
  },
  {
   "cell_type": "code",
   "execution_count": 145,
   "id": "5148913b",
   "metadata": {},
   "outputs": [
    {
     "data": {
      "application/vnd.microsoft.datawrangler.viewer.v0+json": {
       "columns": [
        {
         "name": "dbscan_cluster",
         "rawType": "int64",
         "type": "integer"
        },
        {
         "name": "attack_detected",
         "rawType": "float64",
         "type": "float"
        }
       ],
       "ref": "44b92015-f49e-440a-b0e0-674b102aaa61",
       "rows": [
        [
         "-1",
         "0.45540817426938424"
        ],
        [
         "0",
         "0.0"
        ],
        [
         "1",
         "0.1875"
        ],
        [
         "2",
         "0.14285714285714285"
        ],
        [
         "3",
         "0.21739130434782608"
        ],
        [
         "4",
         "0.125"
        ],
        [
         "5",
         "0.15384615384615385"
        ],
        [
         "6",
         "0.09090909090909091"
        ],
        [
         "7",
         "0.16666666666666666"
        ],
        [
         "8",
         "0.14285714285714285"
        ],
        [
         "9",
         "0.10526315789473684"
        ],
        [
         "10",
         "0.16666666666666666"
        ],
        [
         "11",
         "0.2727272727272727"
        ],
        [
         "12",
         "0.14285714285714285"
        ],
        [
         "13",
         "0.0"
        ],
        [
         "14",
         "0.2"
        ],
        [
         "15",
         "0.25"
        ],
        [
         "16",
         "0.2"
        ],
        [
         "17",
         "0.2857142857142857"
        ],
        [
         "18",
         "0.25"
        ],
        [
         "19",
         "0.14285714285714285"
        ],
        [
         "20",
         "0.2"
        ],
        [
         "21",
         "0.2727272727272727"
        ],
        [
         "22",
         "0.0"
        ],
        [
         "23",
         "0.0"
        ],
        [
         "24",
         "0.0"
        ],
        [
         "25",
         "0.0"
        ],
        [
         "26",
         "0.0"
        ],
        [
         "27",
         "0.4"
        ],
        [
         "28",
         "0.4"
        ],
        [
         "29",
         "0.16666666666666666"
        ],
        [
         "30",
         "0.2"
        ],
        [
         "31",
         "0.0"
        ]
       ],
       "shape": {
        "columns": 1,
        "rows": 33
       }
      },
      "text/plain": [
       "dbscan_cluster\n",
       "-1     0.455408\n",
       " 0     0.000000\n",
       " 1     0.187500\n",
       " 2     0.142857\n",
       " 3     0.217391\n",
       " 4     0.125000\n",
       " 5     0.153846\n",
       " 6     0.090909\n",
       " 7     0.166667\n",
       " 8     0.142857\n",
       " 9     0.105263\n",
       " 10    0.166667\n",
       " 11    0.272727\n",
       " 12    0.142857\n",
       " 13    0.000000\n",
       " 14    0.200000\n",
       " 15    0.250000\n",
       " 16    0.200000\n",
       " 17    0.285714\n",
       " 18    0.250000\n",
       " 19    0.142857\n",
       " 20    0.200000\n",
       " 21    0.272727\n",
       " 22    0.000000\n",
       " 23    0.000000\n",
       " 24    0.000000\n",
       " 25    0.000000\n",
       " 26    0.000000\n",
       " 27    0.400000\n",
       " 28    0.400000\n",
       " 29    0.166667\n",
       " 30    0.200000\n",
       " 31    0.000000\n",
       "Name: attack_detected, dtype: float64"
      ]
     },
     "execution_count": 145,
     "metadata": {},
     "output_type": "execute_result"
    }
   ],
   "source": [
    "dbscan = DBSCAN(eps=0.5, min_samples=5)\n",
    "db_labels = dbscan.fit_predict(X_scaled)\n",
    "\n",
    "df_new['dbscan_cluster'] = db_labels\n",
    "\n",
    "# How many noise points?\n",
    "df_new['dbscan_cluster'].value_counts()\n",
    "\n",
    "# Compare outliers with attack labels\n",
    "df_new.groupby('dbscan_cluster')['attack_detected'].mean()\n",
    "\n"
   ]
  },
  {
   "cell_type": "code",
   "execution_count": 146,
   "id": "51a9ce64",
   "metadata": {},
   "outputs": [
    {
     "data": {
      "image/png": "[encoded data removed]",
      "text/plain": [
       "<Figure size 640x480 with 2 Axes>"
      ]
     },
     "metadata": {},
     "output_type": "display_data"
    }
   ],
   "source": [
    "\n",
    "\n",
    "pca = PCA(n_components=2)\n",
    "X_pca = pca.fit_transform(X_scaled)\n",
    "\n",
    "plt.scatter(X_pca[:, 0], X_pca[:, 1], c=db_labels, cmap='viridis')\n",
    "plt.title(\"DBSCAN Clustering with PCA\")\n",
    "plt.xlabel(\"PCA 1\")\n",
    "plt.ylabel(\"PCA 2\")\n",
    "plt.colorbar(label='Cluster Label')\n",
    "plt.show()\n"
   ]
  },
  {
   "cell_type": "markdown",
   "id": "c648965c",
   "metadata": {},
   "source": [
    "### Marilyn 3. Association Rules: market basket analysis "
   ]
  },
  {
   "cell_type": "code",
   "execution_count": 147,
   "id": "041767b3",
   "metadata": {},
   "outputs": [
    {
     "data": {
      "application/vnd.microsoft.datawrangler.viewer.v0+json": {
       "columns": [
        {
         "name": "index",
         "rawType": "int64",
         "type": "integer"
        },
        {
         "name": "usession_id",
         "rawType": "object",
         "type": "string"
        },
        {
         "name": "network_packet_size",
         "rawType": "int64",
         "type": "integer"
        },
        {
         "name": "protocol_type",
         "rawType": "object",
         "type": "string"
        },
        {
         "name": "login_attempts",
         "rawType": "int64",
         "type": "integer"
        },
        {
         "name": "session_duration",
         "rawType": "float64",
         "type": "float"
        },
        {
         "name": "encryption_used",
         "rawType": "object",
         "type": "unknown"
        },
        {
         "name": "ip_reputation_score",
         "rawType": "float64",
         "type": "float"
        },
        {
         "name": "failed_logins",
         "rawType": "int64",
         "type": "integer"
        },
        {
         "name": "browser_type",
         "rawType": "object",
         "type": "string"
        },
        {
         "name": "unusual_time_access",
         "rawType": "int64",
         "type": "integer"
        },
        {
         "name": "attack_detected",
         "rawType": "int64",
         "type": "integer"
        }
       ],
       "ref": "3da6a2bf-a98e-4ad7-b28d-e7304eff5133",
       "rows": [
        [
         "0",
         "SID_00001",
         "599",
         "TCP",
         "4",
         "492.9832634426563",
         "DES",
         "0.606818080396889",
         "1",
         "Edge",
         "0",
         "1"
        ],
        [
         "1",
         "SID_00002",
         "472",
         "TCP",
         "3",
         "1557.9964611204384",
         "DES",
         "0.3015689675960893",
         "0",
         "Firefox",
         "0",
         "0"
        ],
        [
         "2",
         "SID_00003",
         "629",
         "TCP",
         "3",
         "75.04426166420741",
         "DES",
         "0.7391643279163831",
         "2",
         "Chrome",
         "0",
         "1"
        ],
        [
         "3",
         "SID_00004",
         "804",
         "UDP",
         "4",
         "601.2488351708328",
         "DES",
         "0.1232671757524846",
         "0",
         "Unknown",
         "0",
         "1"
        ],
        [
         "4",
         "SID_00005",
         "453",
         "TCP",
         "5",
         "532.5408884201419",
         "AES",
         "0.0548738567431703",
         "1",
         "Firefox",
         "0",
         "0"
        ],
        [
         "5",
         "SID_00006",
         "453",
         "UDP",
         "5",
         "380.4715502453134",
         "AES",
         "0.4224858607066699",
         "2",
         "Chrome",
         "1",
         "0"
        ],
        [
         "6",
         "SID_00007",
         "815",
         "ICMP",
         "4",
         "728.1071646972356",
         "AES",
         "0.4137719285892984",
         "1",
         "Chrome",
         "0",
         "1"
        ],
        [
         "7",
         "SID_00008",
         "653",
         "TCP",
         "3",
         "12.5999060098958",
         "DES",
         "0.0977193658576949",
         "3",
         "Chrome",
         "1",
         "1"
        ],
        [
         "8",
         "SID_00009",
         "406",
         "TCP",
         "2",
         "542.5588952208974",
         null,
         "0.2945796876500889",
         "0",
         "Chrome",
         "1",
         "0"
        ],
        [
         "9",
         "SID_00010",
         "608",
         "UDP",
         "6",
         "531.9441066211396",
         null,
         "0.4241165641663546",
         "1",
         "Chrome",
         "0",
         "0"
        ],
        [
         "10",
         "SID_00011",
         "407",
         "UDP",
         "6",
         "580.7219253670751",
         "DES",
         "0.1228937389064628",
         "3",
         "Firefox",
         "0",
         "1"
        ],
        [
         "11",
         "SID_00012",
         "406",
         "UDP",
         "9",
         "191.0528369326706",
         "DES",
         "0.3397112713433893",
         "1",
         "Edge",
         "0",
         "1"
        ],
        [
         "12",
         "SID_00013",
         "548",
         "TCP",
         "2",
         "186.1476383415076",
         null,
         "0.4068986326067099",
         "2",
         "Safari",
         "1",
         "0"
        ],
        [
         "13",
         "SID_00014",
         "117",
         "TCP",
         "4",
         "833.4889649491395",
         "DES",
         "0.4732919047923998",
         "2",
         "Unknown",
         "0",
         "1"
        ],
        [
         "14",
         "SID_00015",
         "155",
         "TCP",
         "3",
         "77.84995157439054",
         null,
         "0.3524755745227921",
         "3",
         "Chrome",
         "0",
         "1"
        ],
        [
         "15",
         "SID_00016",
         "387",
         "ICMP",
         "6",
         "292.1361960073892",
         "DES",
         "0.2549124511362793",
         "3",
         "Chrome",
         "0",
         "1"
        ],
        [
         "16",
         "SID_00017",
         "297",
         "TCP",
         "8",
         "1421.414371761036",
         "AES",
         "0.345367552273892",
         "3",
         "Firefox",
         "0",
         "1"
        ],
        [
         "17",
         "SID_00018",
         "562",
         "UDP",
         "1",
         "87.64100168835026",
         null,
         "0.1367291897579692",
         "2",
         "Firefox",
         "0",
         "0"
        ],
        [
         "18",
         "SID_00019",
         "318",
         "TCP",
         "5",
         "504.98866997657433",
         "AES",
         "0.3942314568896387",
         "1",
         "Unknown",
         "0",
         "1"
        ],
        [
         "19",
         "SID_00020",
         "217",
         "ICMP",
         "2",
         "883.6175678484254",
         "DES",
         "0.3101131570512104",
         "0",
         "Chrome",
         "0",
         "0"
        ],
        [
         "20",
         "SID_00021",
         "793",
         "TCP",
         "3",
         "122.1894142089281",
         "AES",
         "0.3693246493280864",
         "2",
         "Firefox",
         "0",
         "0"
        ],
        [
         "21",
         "SID_00022",
         "454",
         "TCP",
         "1",
         "299.71154797427783",
         null,
         "0.3738745916057353",
         "1",
         "Chrome",
         "0",
         "0"
        ],
        [
         "22",
         "SID_00023",
         "513",
         "TCP",
         "3",
         "654.5261426459776",
         "AES",
         "0.4970295435549451",
         "1",
         "Firefox",
         "0",
         "0"
        ],
        [
         "23",
         "SID_00024",
         "215",
         "TCP",
         "8",
         "317.0788581057768",
         "AES",
         "0.461950842242767",
         "2",
         "Chrome",
         "0",
         "1"
        ],
        [
         "24",
         "SID_00025",
         "391",
         "TCP",
         "5",
         "93.17112499822254",
         "AES",
         "0.536245189457405",
         "2",
         "Firefox",
         "0",
         "0"
        ],
        [
         "25",
         "SID_00026",
         "522",
         "TCP",
         "4",
         "211.59584253834697",
         "AES",
         "0.1078985576055601",
         "3",
         "Firefox",
         "0",
         "1"
        ],
        [
         "26",
         "SID_00027",
         "269",
         "TCP",
         "9",
         "92.70169297371484",
         null,
         "0.5068194256848887",
         "0",
         "Chrome",
         "0",
         "1"
        ],
        [
         "27",
         "SID_00028",
         "575",
         "TCP",
         "3",
         "3286.221727767748",
         "DES",
         "0.4204711850467863",
         "0",
         "Chrome",
         "0",
         "0"
        ],
        [
         "28",
         "SID_00029",
         "379",
         "UDP",
         "2",
         "214.98212232301017",
         "AES",
         "0.7863154442710675",
         "2",
         "Chrome",
         "0",
         "1"
        ],
        [
         "29",
         "SID_00030",
         "441",
         "TCP",
         "7",
         "604.9615522886485",
         "AES",
         "0.3360318477936075",
         "0",
         "Firefox",
         "0",
         "1"
        ],
        [
         "30",
         "SID_00031",
         "379",
         "TCP",
         "1",
         "447.62330730772806",
         "DES",
         "0.0993898185618982",
         "0",
         "Chrome",
         "0",
         "0"
        ],
        [
         "31",
         "SID_00032",
         "870",
         "UDP",
         "2",
         "674.2716307687525",
         "DES",
         "0.2720868405623606",
         "1",
         "Chrome",
         "0",
         "1"
        ],
        [
         "32",
         "SID_00033",
         "497",
         "TCP",
         "1",
         "551.4693389958693",
         null,
         "0.0351392525704552",
         "1",
         "Chrome",
         "1",
         "0"
        ],
        [
         "33",
         "SID_00034",
         "288",
         "ICMP",
         "2",
         "1039.10118603804",
         "AES",
         "0.110269438624984",
         "3",
         "Chrome",
         "0",
         "1"
        ],
        [
         "34",
         "SID_00035",
         "664",
         "TCP",
         "6",
         "1650.942099269792",
         null,
         "0.3915442086550267",
         "2",
         "Chrome",
         "1",
         "0"
        ],
        [
         "35",
         "SID_00036",
         "255",
         "TCP",
         "2",
         "268.71323796747225",
         "AES",
         "0.5173361768348047",
         "1",
         "Chrome",
         "1",
         "0"
        ],
        [
         "36",
         "SID_00037",
         "541",
         "TCP",
         "5",
         "162.2873080817919",
         null,
         "0.1379758234123113",
         "2",
         "Chrome",
         "0",
         "0"
        ],
        [
         "37",
         "SID_00038",
         "108",
         "TCP",
         "7",
         "3325.3086894656926",
         "AES",
         "0.0795093219361312",
         "2",
         "Firefox",
         "0",
         "1"
        ],
        [
         "38",
         "SID_00039",
         "234",
         "TCP",
         "5",
         "1608.365096858205",
         "DES",
         "0.6459042598252172",
         "4",
         "Firefox",
         "0",
         "1"
        ],
        [
         "39",
         "SID_00040",
         "539",
         "TCP",
         "4",
         "361.9425945829811",
         "DES",
         "0.3087899599206534",
         "0",
         "Chrome",
         "0",
         "0"
        ],
        [
         "40",
         "SID_00041",
         "647",
         "TCP",
         "2",
         "1801.41325899014",
         null,
         "0.2991840394359722",
         "1",
         "Chrome",
         "0",
         "0"
        ],
        [
         "41",
         "SID_00042",
         "534",
         "TCP",
         "4",
         "888.2555882449734",
         "AES",
         "0.0367521363575246",
         "3",
         "Chrome",
         "0",
         "1"
        ],
        [
         "42",
         "SID_00043",
         "476",
         "TCP",
         "4",
         "460.1784563437431",
         "DES",
         "0.3974194615917665",
         "2",
         "Edge",
         "0",
         "0"
        ],
        [
         "43",
         "SID_00044",
         "439",
         "TCP",
         "5",
         "1653.5169443242044",
         null,
         "0.2453131148697448",
         "2",
         "Chrome",
         "0",
         "0"
        ],
        [
         "44",
         "SID_00045",
         "204",
         "TCP",
         "4",
         "899.8403029798167",
         "DES",
         "0.3373211395417786",
         "1",
         "Chrome",
         "0",
         "0"
        ],
        [
         "45",
         "SID_00046",
         "356",
         "TCP",
         "2",
         "1401.0372662699012",
         "DES",
         "0.6729768279913647",
         "1",
         "Chrome",
         "0",
         "1"
        ],
        [
         "46",
         "SID_00047",
         "407",
         "TCP",
         "7",
         "432.6976830475844",
         "DES",
         "0.081769711383674",
         "3",
         "Edge",
         "1",
         "1"
        ],
        [
         "47",
         "SID_00048",
         "711",
         "TCP",
         "5",
         "1282.4285713839413",
         "AES",
         "0.207445483534184",
         "2",
         "Edge",
         "0",
         "1"
        ],
        [
         "48",
         "SID_00049",
         "568",
         "TCP",
         "6",
         "365.73555486698257",
         "AES",
         "0.5343683322456065",
         "2",
         "Unknown",
         "0",
         "1"
        ],
        [
         "49",
         "SID_00050",
         "147",
         "TCP",
         "1",
         "1062.659149730583",
         "AES",
         "0.2633726317268964",
         "1",
         "Edge",
         "0",
         "0"
        ]
       ],
       "shape": {
        "columns": 11,
        "rows": 9537
       }
      },
      "text/html": [
       "<div>\n",
       "<style scoped>\n",
       "    .dataframe tbody tr th:only-of-type {\n",
       "        vertical-align: middle;\n",
       "    }\n",
       "\n",
       "    .dataframe tbody tr th {\n",
       "        vertical-align: top;\n",
       "    }\n",
       "\n",
       "    .dataframe thead th {\n",
       "        text-align: right;\n",
       "    }\n",
       "</style>\n",
       "<table border=\"1\" class=\"dataframe\">\n",
       "  <thead>\n",
       "    <tr style=\"text-align: right;\">\n",
       "      <th></th>\n",
       "      <th>usession_id</th>\n",
       "      <th>network_packet_size</th>\n",
       "      <th>protocol_type</th>\n",
       "      <th>login_attempts</th>\n",
       "      <th>session_duration</th>\n",
       "      <th>encryption_used</th>\n",
       "      <th>ip_reputation_score</th>\n",
       "      <th>failed_logins</th>\n",
       "      <th>browser_type</th>\n",
       "      <th>unusual_time_access</th>\n",
       "      <th>attack_detected</th>\n",
       "    </tr>\n",
       "  </thead>\n",
       "  <tbody>\n",
       "    <tr>\n",
       "      <th>0</th>\n",
       "      <td>SID_00001</td>\n",
       "      <td>599</td>\n",
       "      <td>TCP</td>\n",
       "      <td>4</td>\n",
       "      <td>492.983263</td>\n",
       "      <td>DES</td>\n",
       "      <td>0.606818</td>\n",
       "      <td>1</td>\n",
       "      <td>Edge</td>\n",
       "      <td>0</td>\n",
       "      <td>1</td>\n",
       "    </tr>\n",
       "    <tr>\n",
       "      <th>1</th>\n",
       "      <td>SID_00002</td>\n",
       "      <td>472</td>\n",
       "      <td>TCP</td>\n",
       "      <td>3</td>\n",
       "      <td>1557.996461</td>\n",
       "      <td>DES</td>\n",
       "      <td>0.301569</td>\n",
       "      <td>0</td>\n",
       "      <td>Firefox</td>\n",
       "      <td>0</td>\n",
       "      <td>0</td>\n",
       "    </tr>\n",
       "    <tr>\n",
       "      <th>2</th>\n",
       "      <td>SID_00003</td>\n",
       "      <td>629</td>\n",
       "      <td>TCP</td>\n",
       "      <td>3</td>\n",
       "      <td>75.044262</td>\n",
       "      <td>DES</td>\n",
       "      <td>0.739164</td>\n",
       "      <td>2</td>\n",
       "      <td>Chrome</td>\n",
       "      <td>0</td>\n",
       "      <td>1</td>\n",
       "    </tr>\n",
       "    <tr>\n",
       "      <th>3</th>\n",
       "      <td>SID_00004</td>\n",
       "      <td>804</td>\n",
       "      <td>UDP</td>\n",
       "      <td>4</td>\n",
       "      <td>601.248835</td>\n",
       "      <td>DES</td>\n",
       "      <td>0.123267</td>\n",
       "      <td>0</td>\n",
       "      <td>Unknown</td>\n",
       "      <td>0</td>\n",
       "      <td>1</td>\n",
       "    </tr>\n",
       "    <tr>\n",
       "      <th>4</th>\n",
       "      <td>SID_00005</td>\n",
       "      <td>453</td>\n",
       "      <td>TCP</td>\n",
       "      <td>5</td>\n",
       "      <td>532.540888</td>\n",
       "      <td>AES</td>\n",
       "      <td>0.054874</td>\n",
       "      <td>1</td>\n",
       "      <td>Firefox</td>\n",
       "      <td>0</td>\n",
       "      <td>0</td>\n",
       "    </tr>\n",
       "    <tr>\n",
       "      <th>...</th>\n",
       "      <td>...</td>\n",
       "      <td>...</td>\n",
       "      <td>...</td>\n",
       "      <td>...</td>\n",
       "      <td>...</td>\n",
       "      <td>...</td>\n",
       "      <td>...</td>\n",
       "      <td>...</td>\n",
       "      <td>...</td>\n",
       "      <td>...</td>\n",
       "      <td>...</td>\n",
       "    </tr>\n",
       "    <tr>\n",
       "      <th>9532</th>\n",
       "      <td>SID_09533</td>\n",
       "      <td>194</td>\n",
       "      <td>ICMP</td>\n",
       "      <td>3</td>\n",
       "      <td>226.049889</td>\n",
       "      <td>AES</td>\n",
       "      <td>0.517737</td>\n",
       "      <td>3</td>\n",
       "      <td>Chrome</td>\n",
       "      <td>0</td>\n",
       "      <td>1</td>\n",
       "    </tr>\n",
       "    <tr>\n",
       "      <th>9533</th>\n",
       "      <td>SID_09534</td>\n",
       "      <td>380</td>\n",
       "      <td>TCP</td>\n",
       "      <td>3</td>\n",
       "      <td>182.848475</td>\n",
       "      <td>NaN</td>\n",
       "      <td>0.408485</td>\n",
       "      <td>0</td>\n",
       "      <td>Chrome</td>\n",
       "      <td>0</td>\n",
       "      <td>0</td>\n",
       "    </tr>\n",
       "    <tr>\n",
       "      <th>9534</th>\n",
       "      <td>SID_09535</td>\n",
       "      <td>664</td>\n",
       "      <td>TCP</td>\n",
       "      <td>5</td>\n",
       "      <td>35.170248</td>\n",
       "      <td>AES</td>\n",
       "      <td>0.359200</td>\n",
       "      <td>1</td>\n",
       "      <td>Firefox</td>\n",
       "      <td>0</td>\n",
       "      <td>0</td>\n",
       "    </tr>\n",
       "    <tr>\n",
       "      <th>9535</th>\n",
       "      <td>SID_09536</td>\n",
       "      <td>406</td>\n",
       "      <td>TCP</td>\n",
       "      <td>4</td>\n",
       "      <td>86.664703</td>\n",
       "      <td>AES</td>\n",
       "      <td>0.537417</td>\n",
       "      <td>1</td>\n",
       "      <td>Chrome</td>\n",
       "      <td>1</td>\n",
       "      <td>0</td>\n",
       "    </tr>\n",
       "    <tr>\n",
       "      <th>9536</th>\n",
       "      <td>SID_09537</td>\n",
       "      <td>340</td>\n",
       "      <td>TCP</td>\n",
       "      <td>6</td>\n",
       "      <td>86.876744</td>\n",
       "      <td>NaN</td>\n",
       "      <td>0.277069</td>\n",
       "      <td>4</td>\n",
       "      <td>Chrome</td>\n",
       "      <td>1</td>\n",
       "      <td>1</td>\n",
       "    </tr>\n",
       "  </tbody>\n",
       "</table>\n",
       "<p>9537 rows × 11 columns</p>\n",
       "</div>"
      ],
      "text/plain": [
       "     usession_id  network_packet_size protocol_type  login_attempts  \\\n",
       "0      SID_00001                  599           TCP               4   \n",
       "1      SID_00002                  472           TCP               3   \n",
       "2      SID_00003                  629           TCP               3   \n",
       "3      SID_00004                  804           UDP               4   \n",
       "4      SID_00005                  453           TCP               5   \n",
       "...          ...                  ...           ...             ...   \n",
       "9532   SID_09533                  194          ICMP               3   \n",
       "9533   SID_09534                  380           TCP               3   \n",
       "9534   SID_09535                  664           TCP               5   \n",
       "9535   SID_09536                  406           TCP               4   \n",
       "9536   SID_09537                  340           TCP               6   \n",
       "\n",
       "      session_duration encryption_used  ip_reputation_score  failed_logins  \\\n",
       "0           492.983263             DES             0.606818              1   \n",
       "1          1557.996461             DES             0.301569              0   \n",
       "2            75.044262             DES             0.739164              2   \n",
       "3           601.248835             DES             0.123267              0   \n",
       "4           532.540888             AES             0.054874              1   \n",
       "...                ...             ...                  ...            ...   \n",
       "9532        226.049889             AES             0.517737              3   \n",
       "9533        182.848475             NaN             0.408485              0   \n",
       "9534         35.170248             AES             0.359200              1   \n",
       "9535         86.664703             AES             0.537417              1   \n",
       "9536         86.876744             NaN             0.277069              4   \n",
       "\n",
       "     browser_type  unusual_time_access  attack_detected  \n",
       "0            Edge                    0                1  \n",
       "1         Firefox                    0                0  \n",
       "2          Chrome                    0                1  \n",
       "3         Unknown                    0                1  \n",
       "4         Firefox                    0                0  \n",
       "...           ...                  ...              ...  \n",
       "9532       Chrome                    0                1  \n",
       "9533       Chrome                    0                0  \n",
       "9534      Firefox                    0                0  \n",
       "9535       Chrome                    1                0  \n",
       "9536       Chrome                    1                1  \n",
       "\n",
       "[9537 rows x 11 columns]"
      ]
     },
     "execution_count": 147,
     "metadata": {},
     "output_type": "execute_result"
    }
   ],
   "source": [
    "df.head(2)\n",
    "df_market=df.copy()\n",
    "df_market"
   ]
  },
  {
   "cell_type": "code",
   "execution_count": 148,
   "id": "dc9dd49b",
   "metadata": {},
   "outputs": [
    {
     "name": "stderr",
     "output_type": "stream",
     "text": [
      "C:\\Users\\Admin\\AppData\\Local\\Temp\\ipykernel_33324\\221283198.py:21: FutureWarning: DataFrame.applymap has been deprecated. Use DataFrame.map instead.\n",
      "  df_market_encoded = df_market_encoded.applymap(lambda x: 1 if x else 0)\n",
      "c:\\Users\\Admin\\AppData\\Local\\Programs\\Python\\Python312\\Lib\\site-packages\\mlxtend\\frequent_patterns\\fpcommon.py:161: DeprecationWarning: DataFrames with non-bool types result in worse computationalperformance and their support might be discontinued in the future.Please use a DataFrame with bool type\n",
      "  warnings.warn(\n"
     ]
    }
   ],
   "source": [
    "# Step 1: Import libraries\n",
    "import pandas as pd\n",
    "from mlxtend.frequent_patterns import apriori, association_rules\n",
    "\n",
    "## Dropping ID and continuous columns not suitable for association rules\n",
    "df_market = df_market.drop(columns=['usession_id', 'network_packet_size', 'session_duration', 'ip_reputation_score'])\n",
    "\n",
    "#Binarizing numeric columns into flags\n",
    "df_market['high_login_attempts'] = df_market['login_attempts'] > 3\n",
    "df_market['any_failed_logins'] = df_market['failed_logins'] > 0\n",
    "df_market['unusual_time_access'] = df_market['unusual_time_access'] == 1\n",
    "df_market['attack_detected'] = df_market['attack_detected'] == 1\n",
    "\n",
    "# Drop original numeric columns\n",
    "df_market = df_market.drop(columns=['login_attempts', 'failed_logins'])\n",
    "\n",
    "# One-hot encode categorical variables\n",
    "df_market_encoded = pd.get_dummies(df_market)\n",
    "\n",
    "# Ensure all values are binary (0/1)\n",
    "df_market_encoded = df_market_encoded.applymap(lambda x: 1 if x else 0)\n",
    "\n",
    "# Apply Apriori algorithm\n",
    "frequent_itemsets = apriori(df_market_encoded, min_support=0.3, use_colnames=True)\n",
    "\n",
    "#  Generate association rules\n",
    "rules = association_rules(frequent_itemsets, metric=\"lift\", min_threshold=0.7)\n",
    "\n",
    "# Sort rules for insights\n",
    "rules_sorted = rules.sort_values(by='lift', ascending=False)\n",
    "\n",
    "\n"
   ]
  },
  {
   "cell_type": "code",
   "execution_count": 149,
   "id": "32e9a1e6",
   "metadata": {},
   "outputs": [
    {
     "data": {
      "application/vnd.microsoft.datawrangler.viewer.v0+json": {
       "columns": [
        {
         "name": "index",
         "rawType": "int64",
         "type": "integer"
        },
        {
         "name": "antecedents",
         "rawType": "object",
         "type": "unknown"
        },
        {
         "name": "consequents",
         "rawType": "object",
         "type": "unknown"
        },
        {
         "name": "support",
         "rawType": "float64",
         "type": "float"
        },
        {
         "name": "confidence",
         "rawType": "float64",
         "type": "float"
        },
        {
         "name": "lift",
         "rawType": "float64",
         "type": "float"
        }
       ],
       "ref": "78978ae7-6ec1-4b15-b08e-4168a43f9597",
       "rows": [
        [
         "0",
         "frozenset({'attack_detected'})",
         "frozenset({'any_failed_logins'})",
         "0.3908986054314774",
         "0.8742964352720451",
         "1.047639791831825"
        ],
        [
         "1",
         "frozenset({'any_failed_logins'})",
         "frozenset({'attack_detected'})",
         "0.3908986054314774",
         "0.46840055283327053",
         "1.047639791831825"
        ]
       ],
       "shape": {
        "columns": 5,
        "rows": 2
       }
      },
      "text/html": [
       "<div>\n",
       "<style scoped>\n",
       "    .dataframe tbody tr th:only-of-type {\n",
       "        vertical-align: middle;\n",
       "    }\n",
       "\n",
       "    .dataframe tbody tr th {\n",
       "        vertical-align: top;\n",
       "    }\n",
       "\n",
       "    .dataframe thead th {\n",
       "        text-align: right;\n",
       "    }\n",
       "</style>\n",
       "<table border=\"1\" class=\"dataframe\">\n",
       "  <thead>\n",
       "    <tr style=\"text-align: right;\">\n",
       "      <th></th>\n",
       "      <th>antecedents</th>\n",
       "      <th>consequents</th>\n",
       "      <th>support</th>\n",
       "      <th>confidence</th>\n",
       "      <th>lift</th>\n",
       "    </tr>\n",
       "  </thead>\n",
       "  <tbody>\n",
       "    <tr>\n",
       "      <th>0</th>\n",
       "      <td>(attack_detected)</td>\n",
       "      <td>(any_failed_logins)</td>\n",
       "      <td>0.390899</td>\n",
       "      <td>0.874296</td>\n",
       "      <td>1.04764</td>\n",
       "    </tr>\n",
       "    <tr>\n",
       "      <th>1</th>\n",
       "      <td>(any_failed_logins)</td>\n",
       "      <td>(attack_detected)</td>\n",
       "      <td>0.390899</td>\n",
       "      <td>0.468401</td>\n",
       "      <td>1.04764</td>\n",
       "    </tr>\n",
       "  </tbody>\n",
       "</table>\n",
       "</div>"
      ],
      "text/plain": [
       "           antecedents          consequents   support  confidence     lift\n",
       "0    (attack_detected)  (any_failed_logins)  0.390899    0.874296  1.04764\n",
       "1  (any_failed_logins)    (attack_detected)  0.390899    0.468401  1.04764"
      ]
     },
     "execution_count": 149,
     "metadata": {},
     "output_type": "execute_result"
    }
   ],
   "source": [
    "# Showing top rules\n",
    "rules_sorted[['antecedents', 'consequents', 'support', 'confidence', 'lift']].head(2)"
   ]
  },
  {
   "cell_type": "markdown",
   "id": "1fe45683",
   "metadata": {},
   "source": [
    "### **Interpretation of Rule 1**\n",
    " *Interpretation:*\n",
    "\n",
    "- When an attack is detected, there is an 87% chance that the session involved at least one failed login.\n",
    "\n",
    "- Insight:\n",
    "This is a very high confidence level, meaning that failed logins are highly predictive of an attack once it occurs. It suggests that failed login attempts are a strong symptom or precursor during attack sessions."
   ]
  },
  {
   "cell_type": "code",
   "execution_count": null,
   "id": "fedcfcb3",
   "metadata": {},
   "outputs": [],
   "source": []
  }
 ],
 "metadata": {
  "kernelspec": {
   "display_name": "Python 3",
   "language": "python",
   "name": "python3"
  },
  "language_info": {
   "codemirror_mode": {
    "name": "ipython",
    "version": 3
   },
   "file_extension": ".py",
   "mimetype": "text/x-python",
   "name": "python",
   "nbconvert_exporter": "python",
   "pygments_lexer": "ipython3",
   "version": "3.12.0"
  }
 },
 "nbformat": 4,
 "nbformat_minor": 5
}
