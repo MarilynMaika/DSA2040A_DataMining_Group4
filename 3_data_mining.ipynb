{
 "cells": [
  {
   "cell_type": "markdown",
   "id": "42133b5a",
   "metadata": {},
   "source": [
    "#  Marilyn:  Loaded the necessary libraries needed for data mining"
   ]
  },
  {
   "cell_type": "code",
   "execution_count": 49,
   "id": "a6485908",
   "metadata": {},
   "outputs": [],
   "source": [
    "# Data handling\n",
    "import pandas as pd\n",
    "import numpy as np\n",
    "\n",
    "# Data preprocessing\n",
    "from sklearn.model_selection import train_test_split\n",
    "from sklearn.preprocessing import LabelEncoder, StandardScaler\n",
    "\n",
    "# Models (choose based on what you're using)\n",
    "from sklearn.tree import DecisionTreeClassifier\n",
    "from sklearn.linear_model import LogisticRegression\n",
    "from sklearn.cluster import KMeans, DBSCAN  # for clustering (if needed)\n",
    "\n",
    "# Model evaluation\n",
    "from sklearn.metrics import accuracy_score, classification_report, confusion_matrix\n",
    "\n",
    "# Association rules (optional, if you're doing market basket analysis)\n",
    "from mlxtend.frequent_patterns import apriori, association_rules\n",
    "from mlxtend.preprocessing import TransactionEncoder\n"
   ]
  },
  {
   "cell_type": "code",
   "execution_count": 50,
   "id": "3922707f",
   "metadata": {},
   "outputs": [
    {
     "data": {
      "application/vnd.microsoft.datawrangler.viewer.v0+json": {
       "columns": [
        {
         "name": "index",
         "rawType": "int64",
         "type": "integer"
        },
        {
         "name": "session_id",
         "rawType": "object",
         "type": "string"
        },
        {
         "name": "network_packet_size",
         "rawType": "int64",
         "type": "integer"
        },
        {
         "name": "protocol_type",
         "rawType": "object",
         "type": "string"
        },
        {
         "name": "login_attempts",
         "rawType": "int64",
         "type": "integer"
        },
        {
         "name": "session_duration",
         "rawType": "float64",
         "type": "float"
        },
        {
         "name": "encryption_used",
         "rawType": "object",
         "type": "string"
        },
        {
         "name": "ip_reputation_score",
         "rawType": "float64",
         "type": "float"
        },
        {
         "name": "failed_logins",
         "rawType": "int64",
         "type": "integer"
        },
        {
         "name": "browser_type",
         "rawType": "object",
         "type": "string"
        },
        {
         "name": "unusual_time_access",
         "rawType": "int64",
         "type": "integer"
        },
        {
         "name": "attack_detected",
         "rawType": "int64",
         "type": "integer"
        }
       ],
       "ref": "948d5d09-39b2-42f0-9725-6fe24eca998d",
       "rows": [
        [
         "0",
         "SID_00001",
         "599",
         "TCP",
         "4",
         "492.9832634426563",
         "DES",
         "0.606818080396889",
         "1",
         "Edge",
         "0",
         "1"
        ],
        [
         "1",
         "SID_00002",
         "472",
         "TCP",
         "3",
         "1557.9964611204384",
         "DES",
         "0.3015689675960893",
         "0",
         "Firefox",
         "0",
         "0"
        ],
        [
         "2",
         "SID_00003",
         "629",
         "TCP",
         "3",
         "75.04426166420741",
         "DES",
         "0.7391643279163831",
         "2",
         "Chrome",
         "0",
         "1"
        ],
        [
         "3",
         "SID_00004",
         "804",
         "UDP",
         "4",
         "601.2488351708328",
         "DES",
         "0.1232671757524846",
         "0",
         "Unknown",
         "0",
         "1"
        ],
        [
         "4",
         "SID_00005",
         "453",
         "TCP",
         "5",
         "532.5408884201419",
         "AES",
         "0.0548738567431703",
         "1",
         "Firefox",
         "0",
         "0"
        ]
       ],
       "shape": {
        "columns": 11,
        "rows": 5
       }
      },
      "text/html": [
       "<div>\n",
       "<style scoped>\n",
       "    .dataframe tbody tr th:only-of-type {\n",
       "        vertical-align: middle;\n",
       "    }\n",
       "\n",
       "    .dataframe tbody tr th {\n",
       "        vertical-align: top;\n",
       "    }\n",
       "\n",
       "    .dataframe thead th {\n",
       "        text-align: right;\n",
       "    }\n",
       "</style>\n",
       "<table border=\"1\" class=\"dataframe\">\n",
       "  <thead>\n",
       "    <tr style=\"text-align: right;\">\n",
       "      <th></th>\n",
       "      <th>session_id</th>\n",
       "      <th>network_packet_size</th>\n",
       "      <th>protocol_type</th>\n",
       "      <th>login_attempts</th>\n",
       "      <th>session_duration</th>\n",
       "      <th>encryption_used</th>\n",
       "      <th>ip_reputation_score</th>\n",
       "      <th>failed_logins</th>\n",
       "      <th>browser_type</th>\n",
       "      <th>unusual_time_access</th>\n",
       "      <th>attack_detected</th>\n",
       "    </tr>\n",
       "  </thead>\n",
       "  <tbody>\n",
       "    <tr>\n",
       "      <th>0</th>\n",
       "      <td>SID_00001</td>\n",
       "      <td>599</td>\n",
       "      <td>TCP</td>\n",
       "      <td>4</td>\n",
       "      <td>492.983263</td>\n",
       "      <td>DES</td>\n",
       "      <td>0.606818</td>\n",
       "      <td>1</td>\n",
       "      <td>Edge</td>\n",
       "      <td>0</td>\n",
       "      <td>1</td>\n",
       "    </tr>\n",
       "    <tr>\n",
       "      <th>1</th>\n",
       "      <td>SID_00002</td>\n",
       "      <td>472</td>\n",
       "      <td>TCP</td>\n",
       "      <td>3</td>\n",
       "      <td>1557.996461</td>\n",
       "      <td>DES</td>\n",
       "      <td>0.301569</td>\n",
       "      <td>0</td>\n",
       "      <td>Firefox</td>\n",
       "      <td>0</td>\n",
       "      <td>0</td>\n",
       "    </tr>\n",
       "    <tr>\n",
       "      <th>2</th>\n",
       "      <td>SID_00003</td>\n",
       "      <td>629</td>\n",
       "      <td>TCP</td>\n",
       "      <td>3</td>\n",
       "      <td>75.044262</td>\n",
       "      <td>DES</td>\n",
       "      <td>0.739164</td>\n",
       "      <td>2</td>\n",
       "      <td>Chrome</td>\n",
       "      <td>0</td>\n",
       "      <td>1</td>\n",
       "    </tr>\n",
       "    <tr>\n",
       "      <th>3</th>\n",
       "      <td>SID_00004</td>\n",
       "      <td>804</td>\n",
       "      <td>UDP</td>\n",
       "      <td>4</td>\n",
       "      <td>601.248835</td>\n",
       "      <td>DES</td>\n",
       "      <td>0.123267</td>\n",
       "      <td>0</td>\n",
       "      <td>Unknown</td>\n",
       "      <td>0</td>\n",
       "      <td>1</td>\n",
       "    </tr>\n",
       "    <tr>\n",
       "      <th>4</th>\n",
       "      <td>SID_00005</td>\n",
       "      <td>453</td>\n",
       "      <td>TCP</td>\n",
       "      <td>5</td>\n",
       "      <td>532.540888</td>\n",
       "      <td>AES</td>\n",
       "      <td>0.054874</td>\n",
       "      <td>1</td>\n",
       "      <td>Firefox</td>\n",
       "      <td>0</td>\n",
       "      <td>0</td>\n",
       "    </tr>\n",
       "  </tbody>\n",
       "</table>\n",
       "</div>"
      ],
      "text/plain": [
       "  session_id  network_packet_size protocol_type  login_attempts  \\\n",
       "0  SID_00001                  599           TCP               4   \n",
       "1  SID_00002                  472           TCP               3   \n",
       "2  SID_00003                  629           TCP               3   \n",
       "3  SID_00004                  804           UDP               4   \n",
       "4  SID_00005                  453           TCP               5   \n",
       "\n",
       "   session_duration encryption_used  ip_reputation_score  failed_logins  \\\n",
       "0        492.983263             DES             0.606818              1   \n",
       "1       1557.996461             DES             0.301569              0   \n",
       "2         75.044262             DES             0.739164              2   \n",
       "3        601.248835             DES             0.123267              0   \n",
       "4        532.540888             AES             0.054874              1   \n",
       "\n",
       "  browser_type  unusual_time_access  attack_detected  \n",
       "0         Edge                    0                1  \n",
       "1      Firefox                    0                0  \n",
       "2       Chrome                    0                1  \n",
       "3      Unknown                    0                1  \n",
       "4      Firefox                    0                0  "
      ]
     },
     "execution_count": 50,
     "metadata": {},
     "output_type": "execute_result"
    }
   ],
   "source": [
    "df = pd.read_csv(\"data/transformed/transformed_cybersecurity_intrusion_data.csv\")\n",
    "df.head()"
   ]
  },
  {
   "cell_type": "markdown",
   "id": "bb2a6616",
   "metadata": {},
   "source": [
    "#### Marilyn:   Inspecting the data making sure it is ready for data modeling and other data mining techniques"
   ]
  },
  {
   "cell_type": "code",
   "execution_count": 51,
   "id": "76bfb6f8",
   "metadata": {},
   "outputs": [
    {
     "name": "stdout",
     "output_type": "stream",
     "text": [
      "session_id                0\n",
      "network_packet_size       0\n",
      "protocol_type             0\n",
      "login_attempts            0\n",
      "session_duration          0\n",
      "encryption_used        1966\n",
      "ip_reputation_score       0\n",
      "failed_logins             0\n",
      "browser_type              0\n",
      "unusual_time_access       0\n",
      "attack_detected           0\n",
      "dtype: int64\n",
      "(9537, 11)\n"
     ]
    }
   ],
   "source": [
    "df.columns\n",
    "print(df.isnull().sum())\n",
    "print(df.shape)"
   ]
  },
  {
   "cell_type": "code",
   "execution_count": 52,
   "id": "636d98ac",
   "metadata": {},
   "outputs": [
    {
     "data": {
      "application/vnd.microsoft.datawrangler.viewer.v0+json": {
       "columns": [
        {
         "name": "index",
         "rawType": "object",
         "type": "string"
        },
        {
         "name": "0",
         "rawType": "int64",
         "type": "integer"
        }
       ],
       "ref": "5b7b8967-5e5d-46c0-801d-fc9498741bd7",
       "rows": [
        [
         "network_packet_size",
         "0"
        ],
        [
         "protocol_type",
         "0"
        ],
        [
         "login_attempts",
         "0"
        ],
        [
         "session_duration",
         "0"
        ],
        [
         "encryption_used",
         "0"
        ],
        [
         "ip_reputation_score",
         "0"
        ],
        [
         "failed_logins",
         "0"
        ],
        [
         "browser_type",
         "0"
        ],
        [
         "unusual_time_access",
         "0"
        ],
        [
         "attack_detected",
         "0"
        ]
       ],
       "shape": {
        "columns": 1,
        "rows": 10
       }
      },
      "text/plain": [
       "network_packet_size    0\n",
       "protocol_type          0\n",
       "login_attempts         0\n",
       "session_duration       0\n",
       "encryption_used        0\n",
       "ip_reputation_score    0\n",
       "failed_logins          0\n",
       "browser_type           0\n",
       "unusual_time_access    0\n",
       "attack_detected        0\n",
       "dtype: int64"
      ]
     },
     "execution_count": 52,
     "metadata": {},
     "output_type": "execute_result"
    }
   ],
   "source": [
    "df_new=df.copy()\n",
    "df_new = df_new.drop(columns=[\"session_id\"])\n",
    "#replacing N/A values with None\n",
    "df_new[\"encryption_used\"]=df_new[\"encryption_used\"].fillna(\"None\")\n",
    "df_new.isnull().sum()\n"
   ]
  },
  {
   "cell_type": "code",
   "execution_count": 53,
   "id": "39fed581",
   "metadata": {},
   "outputs": [
    {
     "data": {
      "application/vnd.microsoft.datawrangler.viewer.v0+json": {
       "columns": [
        {
         "name": "index",
         "rawType": "object",
         "type": "string"
        },
        {
         "name": "0",
         "rawType": "object",
         "type": "unknown"
        }
       ],
       "ref": "1c4a1dbf-dc92-4e76-bfcf-0567286900f0",
       "rows": [
        [
         "network_packet_size",
         "int64"
        ],
        [
         "protocol_type",
         "object"
        ],
        [
         "login_attempts",
         "int64"
        ],
        [
         "session_duration",
         "float64"
        ],
        [
         "encryption_used",
         "object"
        ],
        [
         "ip_reputation_score",
         "float64"
        ],
        [
         "failed_logins",
         "int64"
        ],
        [
         "browser_type",
         "object"
        ],
        [
         "unusual_time_access",
         "int64"
        ],
        [
         "attack_detected",
         "int64"
        ]
       ],
       "shape": {
        "columns": 1,
        "rows": 10
       }
      },
      "text/plain": [
       "network_packet_size      int64\n",
       "protocol_type           object\n",
       "login_attempts           int64\n",
       "session_duration       float64\n",
       "encryption_used         object\n",
       "ip_reputation_score    float64\n",
       "failed_logins            int64\n",
       "browser_type            object\n",
       "unusual_time_access      int64\n",
       "attack_detected          int64\n",
       "dtype: object"
      ]
     },
     "execution_count": 53,
     "metadata": {},
     "output_type": "execute_result"
    }
   ],
   "source": [
    "df_new.dtypes\n",
    "\n"
   ]
  },
  {
   "cell_type": "markdown",
   "id": "7c25540d",
   "metadata": {},
   "source": [
    "### Marilyn: Preprocessing the data for  modeling"
   ]
  },
  {
   "cell_type": "markdown",
   "id": "93fc937b",
   "metadata": {},
   "source": [
    "#### Marilyn: separating the data into features and target variables"
   ]
  },
  {
   "cell_type": "code",
   "execution_count": 54,
   "id": "2693459d",
   "metadata": {},
   "outputs": [
    {
     "name": "stdout",
     "output_type": "stream",
     "text": [
      "Index(['network_packet_size', 'protocol_type', 'login_attempts',\n",
      "       'session_duration', 'encryption_used', 'ip_reputation_score',\n",
      "       'failed_logins', 'browser_type', 'unusual_time_access'],\n",
      "      dtype='object')\n"
     ]
    },
    {
     "data": {
      "application/vnd.microsoft.datawrangler.viewer.v0+json": {
       "columns": [
        {
         "name": "index",
         "rawType": "int64",
         "type": "integer"
        },
        {
         "name": "network_packet_size",
         "rawType": "int64",
         "type": "integer"
        },
        {
         "name": "protocol_type",
         "rawType": "object",
         "type": "string"
        },
        {
         "name": "login_attempts",
         "rawType": "int64",
         "type": "integer"
        },
        {
         "name": "session_duration",
         "rawType": "float64",
         "type": "float"
        },
        {
         "name": "encryption_used",
         "rawType": "object",
         "type": "string"
        },
        {
         "name": "ip_reputation_score",
         "rawType": "float64",
         "type": "float"
        },
        {
         "name": "failed_logins",
         "rawType": "int64",
         "type": "integer"
        },
        {
         "name": "browser_type",
         "rawType": "object",
         "type": "string"
        },
        {
         "name": "unusual_time_access",
         "rawType": "int64",
         "type": "integer"
        }
       ],
       "ref": "1e129bfa-904f-49a2-a18c-9f720fc1754a",
       "rows": [
        [
         "0",
         "599",
         "TCP",
         "4",
         "492.9832634426563",
         "DES",
         "0.606818080396889",
         "1",
         "Edge",
         "0"
        ],
        [
         "1",
         "472",
         "TCP",
         "3",
         "1557.9964611204384",
         "DES",
         "0.3015689675960893",
         "0",
         "Firefox",
         "0"
        ]
       ],
       "shape": {
        "columns": 9,
        "rows": 2
       }
      },
      "text/html": [
       "<div>\n",
       "<style scoped>\n",
       "    .dataframe tbody tr th:only-of-type {\n",
       "        vertical-align: middle;\n",
       "    }\n",
       "\n",
       "    .dataframe tbody tr th {\n",
       "        vertical-align: top;\n",
       "    }\n",
       "\n",
       "    .dataframe thead th {\n",
       "        text-align: right;\n",
       "    }\n",
       "</style>\n",
       "<table border=\"1\" class=\"dataframe\">\n",
       "  <thead>\n",
       "    <tr style=\"text-align: right;\">\n",
       "      <th></th>\n",
       "      <th>network_packet_size</th>\n",
       "      <th>protocol_type</th>\n",
       "      <th>login_attempts</th>\n",
       "      <th>session_duration</th>\n",
       "      <th>encryption_used</th>\n",
       "      <th>ip_reputation_score</th>\n",
       "      <th>failed_logins</th>\n",
       "      <th>browser_type</th>\n",
       "      <th>unusual_time_access</th>\n",
       "    </tr>\n",
       "  </thead>\n",
       "  <tbody>\n",
       "    <tr>\n",
       "      <th>0</th>\n",
       "      <td>599</td>\n",
       "      <td>TCP</td>\n",
       "      <td>4</td>\n",
       "      <td>492.983263</td>\n",
       "      <td>DES</td>\n",
       "      <td>0.606818</td>\n",
       "      <td>1</td>\n",
       "      <td>Edge</td>\n",
       "      <td>0</td>\n",
       "    </tr>\n",
       "    <tr>\n",
       "      <th>1</th>\n",
       "      <td>472</td>\n",
       "      <td>TCP</td>\n",
       "      <td>3</td>\n",
       "      <td>1557.996461</td>\n",
       "      <td>DES</td>\n",
       "      <td>0.301569</td>\n",
       "      <td>0</td>\n",
       "      <td>Firefox</td>\n",
       "      <td>0</td>\n",
       "    </tr>\n",
       "  </tbody>\n",
       "</table>\n",
       "</div>"
      ],
      "text/plain": [
       "   network_packet_size protocol_type  login_attempts  session_duration  \\\n",
       "0                  599           TCP               4        492.983263   \n",
       "1                  472           TCP               3       1557.996461   \n",
       "\n",
       "  encryption_used  ip_reputation_score  failed_logins browser_type  \\\n",
       "0             DES             0.606818              1         Edge   \n",
       "1             DES             0.301569              0      Firefox   \n",
       "\n",
       "   unusual_time_access  \n",
       "0                    0  \n",
       "1                    0  "
      ]
     },
     "execution_count": 54,
     "metadata": {},
     "output_type": "execute_result"
    }
   ],
   "source": [
    "X = df_new.drop(\"attack_detected\", axis=1)\n",
    "y = df_new[\"attack_detected\"]\n",
    "print(X.columns)\n",
    "X.head(2)\n",
    "\n"
   ]
  },
  {
   "cell_type": "code",
   "execution_count": null,
   "id": "5611c3aa",
   "metadata": {},
   "outputs": [],
   "source": [
    "categorical_cols = ['protocol_type', 'encryption_used', 'browser_type', 'unusual_time_access']\n",
    "\n",
    "# Encoding categorical columns using Label Encoding\n",
    "le = LabelEncoder()\n",
    "for col in categorical_cols:\n",
    "    X[col] = le.fit_transform(X[col])\n",
    "\n",
    "#scaling numerical features \n",
    "numerical_cols = X.select_dtypes(include=['int64', 'float64']).columns\n",
    "scaler = StandardScaler()\n",
    "X[numerical_cols] = scaler.fit_transform(X[numerical_cols])"
   ]
  }
 ],
 "metadata": {
  "kernelspec": {
   "display_name": "Python 3",
   "language": "python",
   "name": "python3"
  },
  "language_info": {
   "codemirror_mode": {
    "name": "ipython",
    "version": 3
   },
   "file_extension": ".py",
   "mimetype": "text/x-python",
   "name": "python",
   "nbconvert_exporter": "python",
   "pygments_lexer": "ipython3",
   "version": "3.12.0"
  }
 },
 "nbformat": 4,
 "nbformat_minor": 5
}
