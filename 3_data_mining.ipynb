{
 "cells": [
  {
   "cell_type": "markdown",
   "id": "42133b5a",
   "metadata": {},
   "source": [
    "#  Marilyn:  Loaded the necessary libraries needed for data mining"
   ]
  },
  {
   "cell_type": "code",
   "execution_count": 17,
   "id": "a6485908",
   "metadata": {},
   "outputs": [],
   "source": [
    "# Data handling\n",
    "import pandas as pd\n",
    "import numpy as np\n",
    "\n",
    "# Data preprocessing\n",
    "from sklearn.model_selection import train_test_split\n",
    "from sklearn.preprocessing import LabelEncoder, StandardScaler\n",
    "\n",
    "# Models (choose based on what you're using)\n",
    "from sklearn.tree import DecisionTreeClassifier\n",
    "from sklearn.linear_model import LogisticRegression\n",
    "from sklearn.cluster import KMeans, DBSCAN  # for clustering (if needed)\n",
    "\n",
    "# Model evaluation\n",
    "from sklearn.metrics import accuracy_score, classification_report, confusion_matrix\n",
    "\n",
    "# Association rules (optional, if you're doing market basket analysis)\n",
    "from mlxtend.frequent_patterns import apriori, association_rules\n",
    "from mlxtend.preprocessing import TransactionEncoder\n"
   ]
  },
  {
   "cell_type": "code",
   "execution_count": 18,
   "id": "3922707f",
   "metadata": {},
   "outputs": [
    {
     "data": {
      "application/vnd.microsoft.datawrangler.viewer.v0+json": {
       "columns": [
        {
         "name": "index",
         "rawType": "int64",
         "type": "integer"
        },
        {
         "name": "session_id",
         "rawType": "object",
         "type": "string"
        },
        {
         "name": "network_packet_size",
         "rawType": "int64",
         "type": "integer"
        },
        {
         "name": "protocol_type",
         "rawType": "object",
         "type": "string"
        },
        {
         "name": "login_attempts",
         "rawType": "int64",
         "type": "integer"
        },
        {
         "name": "session_duration",
         "rawType": "float64",
         "type": "float"
        },
        {
         "name": "encryption_used",
         "rawType": "object",
         "type": "string"
        },
        {
         "name": "ip_reputation_score",
         "rawType": "float64",
         "type": "float"
        },
        {
         "name": "failed_logins",
         "rawType": "int64",
         "type": "integer"
        },
        {
         "name": "browser_type",
         "rawType": "object",
         "type": "string"
        },
        {
         "name": "unusual_time_access",
         "rawType": "int64",
         "type": "integer"
        },
        {
         "name": "attack_detected",
         "rawType": "int64",
         "type": "integer"
        }
       ],
       "ref": "e09b7c98-667c-4647-8e93-355a69864bde",
       "rows": [
        [
         "0",
         "SID_00001",
         "599",
         "TCP",
         "4",
         "492.9832634426563",
         "DES",
         "0.606818080396889",
         "1",
         "Edge",
         "0",
         "1"
        ],
        [
         "1",
         "SID_00002",
         "472",
         "TCP",
         "3",
         "1557.9964611204384",
         "DES",
         "0.3015689675960893",
         "0",
         "Firefox",
         "0",
         "0"
        ],
        [
         "2",
         "SID_00003",
         "629",
         "TCP",
         "3",
         "75.04426166420741",
         "DES",
         "0.7391643279163831",
         "2",
         "Chrome",
         "0",
         "1"
        ],
        [
         "3",
         "SID_00004",
         "804",
         "UDP",
         "4",
         "601.2488351708328",
         "DES",
         "0.1232671757524846",
         "0",
         "Unknown",
         "0",
         "1"
        ],
        [
         "4",
         "SID_00005",
         "453",
         "TCP",
         "5",
         "532.5408884201419",
         "AES",
         "0.0548738567431703",
         "1",
         "Firefox",
         "0",
         "0"
        ]
       ],
       "shape": {
        "columns": 11,
        "rows": 5
       }
      },
      "text/html": [
       "<div>\n",
       "<style scoped>\n",
       "    .dataframe tbody tr th:only-of-type {\n",
       "        vertical-align: middle;\n",
       "    }\n",
       "\n",
       "    .dataframe tbody tr th {\n",
       "        vertical-align: top;\n",
       "    }\n",
       "\n",
       "    .dataframe thead th {\n",
       "        text-align: right;\n",
       "    }\n",
       "</style>\n",
       "<table border=\"1\" class=\"dataframe\">\n",
       "  <thead>\n",
       "    <tr style=\"text-align: right;\">\n",
       "      <th></th>\n",
       "      <th>session_id</th>\n",
       "      <th>network_packet_size</th>\n",
       "      <th>protocol_type</th>\n",
       "      <th>login_attempts</th>\n",
       "      <th>session_duration</th>\n",
       "      <th>encryption_used</th>\n",
       "      <th>ip_reputation_score</th>\n",
       "      <th>failed_logins</th>\n",
       "      <th>browser_type</th>\n",
       "      <th>unusual_time_access</th>\n",
       "      <th>attack_detected</th>\n",
       "    </tr>\n",
       "  </thead>\n",
       "  <tbody>\n",
       "    <tr>\n",
       "      <th>0</th>\n",
       "      <td>SID_00001</td>\n",
       "      <td>599</td>\n",
       "      <td>TCP</td>\n",
       "      <td>4</td>\n",
       "      <td>492.983263</td>\n",
       "      <td>DES</td>\n",
       "      <td>0.606818</td>\n",
       "      <td>1</td>\n",
       "      <td>Edge</td>\n",
       "      <td>0</td>\n",
       "      <td>1</td>\n",
       "    </tr>\n",
       "    <tr>\n",
       "      <th>1</th>\n",
       "      <td>SID_00002</td>\n",
       "      <td>472</td>\n",
       "      <td>TCP</td>\n",
       "      <td>3</td>\n",
       "      <td>1557.996461</td>\n",
       "      <td>DES</td>\n",
       "      <td>0.301569</td>\n",
       "      <td>0</td>\n",
       "      <td>Firefox</td>\n",
       "      <td>0</td>\n",
       "      <td>0</td>\n",
       "    </tr>\n",
       "    <tr>\n",
       "      <th>2</th>\n",
       "      <td>SID_00003</td>\n",
       "      <td>629</td>\n",
       "      <td>TCP</td>\n",
       "      <td>3</td>\n",
       "      <td>75.044262</td>\n",
       "      <td>DES</td>\n",
       "      <td>0.739164</td>\n",
       "      <td>2</td>\n",
       "      <td>Chrome</td>\n",
       "      <td>0</td>\n",
       "      <td>1</td>\n",
       "    </tr>\n",
       "    <tr>\n",
       "      <th>3</th>\n",
       "      <td>SID_00004</td>\n",
       "      <td>804</td>\n",
       "      <td>UDP</td>\n",
       "      <td>4</td>\n",
       "      <td>601.248835</td>\n",
       "      <td>DES</td>\n",
       "      <td>0.123267</td>\n",
       "      <td>0</td>\n",
       "      <td>Unknown</td>\n",
       "      <td>0</td>\n",
       "      <td>1</td>\n",
       "    </tr>\n",
       "    <tr>\n",
       "      <th>4</th>\n",
       "      <td>SID_00005</td>\n",
       "      <td>453</td>\n",
       "      <td>TCP</td>\n",
       "      <td>5</td>\n",
       "      <td>532.540888</td>\n",
       "      <td>AES</td>\n",
       "      <td>0.054874</td>\n",
       "      <td>1</td>\n",
       "      <td>Firefox</td>\n",
       "      <td>0</td>\n",
       "      <td>0</td>\n",
       "    </tr>\n",
       "  </tbody>\n",
       "</table>\n",
       "</div>"
      ],
      "text/plain": [
       "  session_id  network_packet_size protocol_type  login_attempts  \\\n",
       "0  SID_00001                  599           TCP               4   \n",
       "1  SID_00002                  472           TCP               3   \n",
       "2  SID_00003                  629           TCP               3   \n",
       "3  SID_00004                  804           UDP               4   \n",
       "4  SID_00005                  453           TCP               5   \n",
       "\n",
       "   session_duration encryption_used  ip_reputation_score  failed_logins  \\\n",
       "0        492.983263             DES             0.606818              1   \n",
       "1       1557.996461             DES             0.301569              0   \n",
       "2         75.044262             DES             0.739164              2   \n",
       "3        601.248835             DES             0.123267              0   \n",
       "4        532.540888             AES             0.054874              1   \n",
       "\n",
       "  browser_type  unusual_time_access  attack_detected  \n",
       "0         Edge                    0                1  \n",
       "1      Firefox                    0                0  \n",
       "2       Chrome                    0                1  \n",
       "3      Unknown                    0                1  \n",
       "4      Firefox                    0                0  "
      ]
     },
     "execution_count": 18,
     "metadata": {},
     "output_type": "execute_result"
    }
   ],
   "source": [
    "df = pd.read_csv(\"data/transformed/transformed_cybersecurity_intrusion_data.csv\")\n",
    "df.head()"
   ]
  },
  {
   "cell_type": "markdown",
   "id": "bb2a6616",
   "metadata": {},
   "source": [
    "#### Marilyn:   Inspecting the data making sure it is ready for data modeling and other data mining techniques"
   ]
  },
  {
   "cell_type": "code",
   "execution_count": 19,
   "id": "76bfb6f8",
   "metadata": {},
   "outputs": [
    {
     "name": "stdout",
     "output_type": "stream",
     "text": [
      "session_id                0\n",
      "network_packet_size       0\n",
      "protocol_type             0\n",
      "login_attempts            0\n",
      "session_duration          0\n",
      "encryption_used        1966\n",
      "ip_reputation_score       0\n",
      "failed_logins             0\n",
      "browser_type              0\n",
      "unusual_time_access       0\n",
      "attack_detected           0\n",
      "dtype: int64\n",
      "(9537, 11)\n"
     ]
    }
   ],
   "source": [
    "df.columns\n",
    "print(df.isnull().sum())\n",
    "print(df.shape)"
   ]
  },
  {
   "cell_type": "code",
   "execution_count": 20,
   "id": "636d98ac",
   "metadata": {},
   "outputs": [
    {
     "data": {
      "application/vnd.microsoft.datawrangler.viewer.v0+json": {
       "columns": [
        {
         "name": "index",
         "rawType": "int64",
         "type": "integer"
        },
        {
         "name": "network_packet_size",
         "rawType": "int64",
         "type": "integer"
        },
        {
         "name": "protocol_type",
         "rawType": "object",
         "type": "string"
        },
        {
         "name": "login_attempts",
         "rawType": "int64",
         "type": "integer"
        },
        {
         "name": "session_duration",
         "rawType": "float64",
         "type": "float"
        },
        {
         "name": "ip_reputation_score",
         "rawType": "float64",
         "type": "float"
        },
        {
         "name": "failed_logins",
         "rawType": "int64",
         "type": "integer"
        },
        {
         "name": "browser_type",
         "rawType": "object",
         "type": "string"
        },
        {
         "name": "unusual_time_access",
         "rawType": "int64",
         "type": "integer"
        },
        {
         "name": "attack_detected",
         "rawType": "int64",
         "type": "integer"
        }
       ],
       "ref": "ea2adbf2-fa56-4303-9726-9157673d55d3",
       "rows": [
        [
         "0",
         "599",
         "TCP",
         "4",
         "492.9832634426563",
         "0.606818080396889",
         "1",
         "Edge",
         "0",
         "1"
        ],
        [
         "1",
         "472",
         "TCP",
         "3",
         "1557.9964611204384",
         "0.3015689675960893",
         "0",
         "Firefox",
         "0",
         "0"
        ],
        [
         "2",
         "629",
         "TCP",
         "3",
         "75.04426166420741",
         "0.7391643279163831",
         "2",
         "Chrome",
         "0",
         "1"
        ],
        [
         "3",
         "804",
         "UDP",
         "4",
         "601.2488351708328",
         "0.1232671757524846",
         "0",
         "Unknown",
         "0",
         "1"
        ],
        [
         "4",
         "453",
         "TCP",
         "5",
         "532.5408884201419",
         "0.0548738567431703",
         "1",
         "Firefox",
         "0",
         "0"
        ],
        [
         "5",
         "453",
         "UDP",
         "5",
         "380.4715502453134",
         "0.4224858607066699",
         "2",
         "Chrome",
         "1",
         "0"
        ],
        [
         "6",
         "815",
         "ICMP",
         "4",
         "728.1071646972356",
         "0.4137719285892984",
         "1",
         "Chrome",
         "0",
         "1"
        ],
        [
         "7",
         "653",
         "TCP",
         "3",
         "12.5999060098958",
         "0.0977193658576949",
         "3",
         "Chrome",
         "1",
         "1"
        ],
        [
         "8",
         "406",
         "TCP",
         "2",
         "542.5588952208974",
         "0.2945796876500889",
         "0",
         "Chrome",
         "1",
         "0"
        ],
        [
         "9",
         "608",
         "UDP",
         "6",
         "531.9441066211396",
         "0.4241165641663546",
         "1",
         "Chrome",
         "0",
         "0"
        ],
        [
         "10",
         "407",
         "UDP",
         "6",
         "580.7219253670751",
         "0.1228937389064628",
         "3",
         "Firefox",
         "0",
         "1"
        ],
        [
         "11",
         "406",
         "UDP",
         "9",
         "191.0528369326706",
         "0.3397112713433893",
         "1",
         "Edge",
         "0",
         "1"
        ],
        [
         "12",
         "548",
         "TCP",
         "2",
         "186.1476383415076",
         "0.4068986326067099",
         "2",
         "Safari",
         "1",
         "0"
        ],
        [
         "13",
         "117",
         "TCP",
         "4",
         "833.4889649491395",
         "0.4732919047923998",
         "2",
         "Unknown",
         "0",
         "1"
        ],
        [
         "14",
         "155",
         "TCP",
         "3",
         "77.84995157439054",
         "0.3524755745227921",
         "3",
         "Chrome",
         "0",
         "1"
        ],
        [
         "15",
         "387",
         "ICMP",
         "6",
         "292.1361960073892",
         "0.2549124511362793",
         "3",
         "Chrome",
         "0",
         "1"
        ],
        [
         "16",
         "297",
         "TCP",
         "8",
         "1421.414371761036",
         "0.345367552273892",
         "3",
         "Firefox",
         "0",
         "1"
        ],
        [
         "17",
         "562",
         "UDP",
         "1",
         "87.64100168835026",
         "0.1367291897579692",
         "2",
         "Firefox",
         "0",
         "0"
        ],
        [
         "18",
         "318",
         "TCP",
         "5",
         "504.98866997657433",
         "0.3942314568896387",
         "1",
         "Unknown",
         "0",
         "1"
        ],
        [
         "19",
         "217",
         "ICMP",
         "2",
         "883.6175678484254",
         "0.3101131570512104",
         "0",
         "Chrome",
         "0",
         "0"
        ],
        [
         "20",
         "793",
         "TCP",
         "3",
         "122.1894142089281",
         "0.3693246493280864",
         "2",
         "Firefox",
         "0",
         "0"
        ],
        [
         "21",
         "454",
         "TCP",
         "1",
         "299.71154797427783",
         "0.3738745916057353",
         "1",
         "Chrome",
         "0",
         "0"
        ],
        [
         "22",
         "513",
         "TCP",
         "3",
         "654.5261426459776",
         "0.4970295435549451",
         "1",
         "Firefox",
         "0",
         "0"
        ],
        [
         "23",
         "215",
         "TCP",
         "8",
         "317.0788581057768",
         "0.461950842242767",
         "2",
         "Chrome",
         "0",
         "1"
        ],
        [
         "24",
         "391",
         "TCP",
         "5",
         "93.17112499822254",
         "0.536245189457405",
         "2",
         "Firefox",
         "0",
         "0"
        ],
        [
         "25",
         "522",
         "TCP",
         "4",
         "211.59584253834697",
         "0.1078985576055601",
         "3",
         "Firefox",
         "0",
         "1"
        ],
        [
         "26",
         "269",
         "TCP",
         "9",
         "92.70169297371484",
         "0.5068194256848887",
         "0",
         "Chrome",
         "0",
         "1"
        ],
        [
         "27",
         "575",
         "TCP",
         "3",
         "3286.221727767748",
         "0.4204711850467863",
         "0",
         "Chrome",
         "0",
         "0"
        ],
        [
         "28",
         "379",
         "UDP",
         "2",
         "214.98212232301017",
         "0.7863154442710675",
         "2",
         "Chrome",
         "0",
         "1"
        ],
        [
         "29",
         "441",
         "TCP",
         "7",
         "604.9615522886485",
         "0.3360318477936075",
         "0",
         "Firefox",
         "0",
         "1"
        ],
        [
         "30",
         "379",
         "TCP",
         "1",
         "447.62330730772806",
         "0.0993898185618982",
         "0",
         "Chrome",
         "0",
         "0"
        ],
        [
         "31",
         "870",
         "UDP",
         "2",
         "674.2716307687525",
         "0.2720868405623606",
         "1",
         "Chrome",
         "0",
         "1"
        ],
        [
         "32",
         "497",
         "TCP",
         "1",
         "551.4693389958693",
         "0.0351392525704552",
         "1",
         "Chrome",
         "1",
         "0"
        ],
        [
         "33",
         "288",
         "ICMP",
         "2",
         "1039.10118603804",
         "0.110269438624984",
         "3",
         "Chrome",
         "0",
         "1"
        ],
        [
         "34",
         "664",
         "TCP",
         "6",
         "1650.942099269792",
         "0.3915442086550267",
         "2",
         "Chrome",
         "1",
         "0"
        ],
        [
         "35",
         "255",
         "TCP",
         "2",
         "268.71323796747225",
         "0.5173361768348047",
         "1",
         "Chrome",
         "1",
         "0"
        ],
        [
         "36",
         "541",
         "TCP",
         "5",
         "162.2873080817919",
         "0.1379758234123113",
         "2",
         "Chrome",
         "0",
         "0"
        ],
        [
         "37",
         "108",
         "TCP",
         "7",
         "3325.3086894656926",
         "0.0795093219361312",
         "2",
         "Firefox",
         "0",
         "1"
        ],
        [
         "38",
         "234",
         "TCP",
         "5",
         "1608.365096858205",
         "0.6459042598252172",
         "4",
         "Firefox",
         "0",
         "1"
        ],
        [
         "39",
         "539",
         "TCP",
         "4",
         "361.9425945829811",
         "0.3087899599206534",
         "0",
         "Chrome",
         "0",
         "0"
        ],
        [
         "40",
         "647",
         "TCP",
         "2",
         "1801.41325899014",
         "0.2991840394359722",
         "1",
         "Chrome",
         "0",
         "0"
        ],
        [
         "41",
         "534",
         "TCP",
         "4",
         "888.2555882449734",
         "0.0367521363575246",
         "3",
         "Chrome",
         "0",
         "1"
        ],
        [
         "42",
         "476",
         "TCP",
         "4",
         "460.1784563437431",
         "0.3974194615917665",
         "2",
         "Edge",
         "0",
         "0"
        ],
        [
         "43",
         "439",
         "TCP",
         "5",
         "1653.5169443242044",
         "0.2453131148697448",
         "2",
         "Chrome",
         "0",
         "0"
        ],
        [
         "44",
         "204",
         "TCP",
         "4",
         "899.8403029798167",
         "0.3373211395417786",
         "1",
         "Chrome",
         "0",
         "0"
        ],
        [
         "45",
         "356",
         "TCP",
         "2",
         "1401.0372662699012",
         "0.6729768279913647",
         "1",
         "Chrome",
         "0",
         "1"
        ],
        [
         "46",
         "407",
         "TCP",
         "7",
         "432.6976830475844",
         "0.081769711383674",
         "3",
         "Edge",
         "1",
         "1"
        ],
        [
         "47",
         "711",
         "TCP",
         "5",
         "1282.4285713839413",
         "0.207445483534184",
         "2",
         "Edge",
         "0",
         "1"
        ],
        [
         "48",
         "568",
         "TCP",
         "6",
         "365.73555486698257",
         "0.5343683322456065",
         "2",
         "Unknown",
         "0",
         "1"
        ],
        [
         "49",
         "147",
         "TCP",
         "1",
         "1062.659149730583",
         "0.2633726317268964",
         "1",
         "Edge",
         "0",
         "0"
        ]
       ],
       "shape": {
        "columns": 9,
        "rows": 9537
       }
      },
      "text/html": [
       "<div>\n",
       "<style scoped>\n",
       "    .dataframe tbody tr th:only-of-type {\n",
       "        vertical-align: middle;\n",
       "    }\n",
       "\n",
       "    .dataframe tbody tr th {\n",
       "        vertical-align: top;\n",
       "    }\n",
       "\n",
       "    .dataframe thead th {\n",
       "        text-align: right;\n",
       "    }\n",
       "</style>\n",
       "<table border=\"1\" class=\"dataframe\">\n",
       "  <thead>\n",
       "    <tr style=\"text-align: right;\">\n",
       "      <th></th>\n",
       "      <th>network_packet_size</th>\n",
       "      <th>protocol_type</th>\n",
       "      <th>login_attempts</th>\n",
       "      <th>session_duration</th>\n",
       "      <th>ip_reputation_score</th>\n",
       "      <th>failed_logins</th>\n",
       "      <th>browser_type</th>\n",
       "      <th>unusual_time_access</th>\n",
       "      <th>attack_detected</th>\n",
       "    </tr>\n",
       "  </thead>\n",
       "  <tbody>\n",
       "    <tr>\n",
       "      <th>0</th>\n",
       "      <td>599</td>\n",
       "      <td>TCP</td>\n",
       "      <td>4</td>\n",
       "      <td>492.983263</td>\n",
       "      <td>0.606818</td>\n",
       "      <td>1</td>\n",
       "      <td>Edge</td>\n",
       "      <td>0</td>\n",
       "      <td>1</td>\n",
       "    </tr>\n",
       "    <tr>\n",
       "      <th>1</th>\n",
       "      <td>472</td>\n",
       "      <td>TCP</td>\n",
       "      <td>3</td>\n",
       "      <td>1557.996461</td>\n",
       "      <td>0.301569</td>\n",
       "      <td>0</td>\n",
       "      <td>Firefox</td>\n",
       "      <td>0</td>\n",
       "      <td>0</td>\n",
       "    </tr>\n",
       "    <tr>\n",
       "      <th>2</th>\n",
       "      <td>629</td>\n",
       "      <td>TCP</td>\n",
       "      <td>3</td>\n",
       "      <td>75.044262</td>\n",
       "      <td>0.739164</td>\n",
       "      <td>2</td>\n",
       "      <td>Chrome</td>\n",
       "      <td>0</td>\n",
       "      <td>1</td>\n",
       "    </tr>\n",
       "    <tr>\n",
       "      <th>3</th>\n",
       "      <td>804</td>\n",
       "      <td>UDP</td>\n",
       "      <td>4</td>\n",
       "      <td>601.248835</td>\n",
       "      <td>0.123267</td>\n",
       "      <td>0</td>\n",
       "      <td>Unknown</td>\n",
       "      <td>0</td>\n",
       "      <td>1</td>\n",
       "    </tr>\n",
       "    <tr>\n",
       "      <th>4</th>\n",
       "      <td>453</td>\n",
       "      <td>TCP</td>\n",
       "      <td>5</td>\n",
       "      <td>532.540888</td>\n",
       "      <td>0.054874</td>\n",
       "      <td>1</td>\n",
       "      <td>Firefox</td>\n",
       "      <td>0</td>\n",
       "      <td>0</td>\n",
       "    </tr>\n",
       "    <tr>\n",
       "      <th>...</th>\n",
       "      <td>...</td>\n",
       "      <td>...</td>\n",
       "      <td>...</td>\n",
       "      <td>...</td>\n",
       "      <td>...</td>\n",
       "      <td>...</td>\n",
       "      <td>...</td>\n",
       "      <td>...</td>\n",
       "      <td>...</td>\n",
       "    </tr>\n",
       "    <tr>\n",
       "      <th>9532</th>\n",
       "      <td>194</td>\n",
       "      <td>ICMP</td>\n",
       "      <td>3</td>\n",
       "      <td>226.049889</td>\n",
       "      <td>0.517737</td>\n",
       "      <td>3</td>\n",
       "      <td>Chrome</td>\n",
       "      <td>0</td>\n",
       "      <td>1</td>\n",
       "    </tr>\n",
       "    <tr>\n",
       "      <th>9533</th>\n",
       "      <td>380</td>\n",
       "      <td>TCP</td>\n",
       "      <td>3</td>\n",
       "      <td>182.848475</td>\n",
       "      <td>0.408485</td>\n",
       "      <td>0</td>\n",
       "      <td>Chrome</td>\n",
       "      <td>0</td>\n",
       "      <td>0</td>\n",
       "    </tr>\n",
       "    <tr>\n",
       "      <th>9534</th>\n",
       "      <td>664</td>\n",
       "      <td>TCP</td>\n",
       "      <td>5</td>\n",
       "      <td>35.170248</td>\n",
       "      <td>0.359200</td>\n",
       "      <td>1</td>\n",
       "      <td>Firefox</td>\n",
       "      <td>0</td>\n",
       "      <td>0</td>\n",
       "    </tr>\n",
       "    <tr>\n",
       "      <th>9535</th>\n",
       "      <td>406</td>\n",
       "      <td>TCP</td>\n",
       "      <td>4</td>\n",
       "      <td>86.664703</td>\n",
       "      <td>0.537417</td>\n",
       "      <td>1</td>\n",
       "      <td>Chrome</td>\n",
       "      <td>1</td>\n",
       "      <td>0</td>\n",
       "    </tr>\n",
       "    <tr>\n",
       "      <th>9536</th>\n",
       "      <td>340</td>\n",
       "      <td>TCP</td>\n",
       "      <td>6</td>\n",
       "      <td>86.876744</td>\n",
       "      <td>0.277069</td>\n",
       "      <td>4</td>\n",
       "      <td>Chrome</td>\n",
       "      <td>1</td>\n",
       "      <td>1</td>\n",
       "    </tr>\n",
       "  </tbody>\n",
       "</table>\n",
       "<p>9537 rows × 9 columns</p>\n",
       "</div>"
      ],
      "text/plain": [
       "      network_packet_size protocol_type  login_attempts  session_duration  \\\n",
       "0                     599           TCP               4        492.983263   \n",
       "1                     472           TCP               3       1557.996461   \n",
       "2                     629           TCP               3         75.044262   \n",
       "3                     804           UDP               4        601.248835   \n",
       "4                     453           TCP               5        532.540888   \n",
       "...                   ...           ...             ...               ...   \n",
       "9532                  194          ICMP               3        226.049889   \n",
       "9533                  380           TCP               3        182.848475   \n",
       "9534                  664           TCP               5         35.170248   \n",
       "9535                  406           TCP               4         86.664703   \n",
       "9536                  340           TCP               6         86.876744   \n",
       "\n",
       "      ip_reputation_score  failed_logins browser_type  unusual_time_access  \\\n",
       "0                0.606818              1         Edge                    0   \n",
       "1                0.301569              0      Firefox                    0   \n",
       "2                0.739164              2       Chrome                    0   \n",
       "3                0.123267              0      Unknown                    0   \n",
       "4                0.054874              1      Firefox                    0   \n",
       "...                   ...            ...          ...                  ...   \n",
       "9532             0.517737              3       Chrome                    0   \n",
       "9533             0.408485              0       Chrome                    0   \n",
       "9534             0.359200              1      Firefox                    0   \n",
       "9535             0.537417              1       Chrome                    1   \n",
       "9536             0.277069              4       Chrome                    1   \n",
       "\n",
       "      attack_detected  \n",
       "0                   1  \n",
       "1                   0  \n",
       "2                   1  \n",
       "3                   1  \n",
       "4                   0  \n",
       "...               ...  \n",
       "9532                1  \n",
       "9533                0  \n",
       "9534                0  \n",
       "9535                0  \n",
       "9536                1  \n",
       "\n",
       "[9537 rows x 9 columns]"
      ]
     },
     "execution_count": 20,
     "metadata": {},
     "output_type": "execute_result"
    }
   ],
   "source": [
    "df_new=df.copy()\n",
    "df_new.drop(columns=[\"encryption_used\",\"session_id\"])\n"
   ]
  },
  {
   "cell_type": "code",
   "execution_count": 25,
   "id": "39fed581",
   "metadata": {},
   "outputs": [
    {
     "data": {
      "application/vnd.microsoft.datawrangler.viewer.v0+json": {
       "columns": [
        {
         "name": "index",
         "rawType": "object",
         "type": "string"
        },
        {
         "name": "0",
         "rawType": "object",
         "type": "unknown"
        }
       ],
       "ref": "d154c680-693f-4256-b238-fbbab6a904a3",
       "rows": [
        [
         "session_id",
         "object"
        ],
        [
         "network_packet_size",
         "int64"
        ],
        [
         "protocol_type",
         "object"
        ],
        [
         "login_attempts",
         "int64"
        ],
        [
         "session_duration",
         "float64"
        ],
        [
         "encryption_used",
         "object"
        ],
        [
         "ip_reputation_score",
         "float64"
        ],
        [
         "failed_logins",
         "int64"
        ],
        [
         "browser_type",
         "object"
        ],
        [
         "unusual_time_access",
         "int64"
        ],
        [
         "attack_detected",
         "int64"
        ]
       ],
       "shape": {
        "columns": 1,
        "rows": 11
       }
      },
      "text/plain": [
       "session_id              object\n",
       "network_packet_size      int64\n",
       "protocol_type           object\n",
       "login_attempts           int64\n",
       "session_duration       float64\n",
       "encryption_used         object\n",
       "ip_reputation_score    float64\n",
       "failed_logins            int64\n",
       "browser_type            object\n",
       "unusual_time_access      int64\n",
       "attack_detected          int64\n",
       "dtype: object"
      ]
     },
     "execution_count": 25,
     "metadata": {},
     "output_type": "execute_result"
    }
   ],
   "source": [
    "df_new.dtypes\n"
   ]
  },
  {
   "cell_type": "markdown",
   "id": "93fc937b",
   "metadata": {},
   "source": [
    "#### Marilyn: separating the data into features and target variables for modeling"
   ]
  },
  {
   "cell_type": "code",
   "execution_count": 26,
   "id": "2693459d",
   "metadata": {},
   "outputs": [],
   "source": [
    "X = df_new.drop(\"attack_detected\", axis=1)\n",
    "y = df_new[\"attack_detected\"]"
   ]
  }
 ],
 "metadata": {
  "kernelspec": {
   "display_name": "Python 3",
   "language": "python",
   "name": "python3"
  },
  "language_info": {
   "codemirror_mode": {
    "name": "ipython",
    "version": 3
   },
   "file_extension": ".py",
   "mimetype": "text/x-python",
   "name": "python",
   "nbconvert_exporter": "python",
   "pygments_lexer": "ipython3",
   "version": "3.12.0"
  }
 },
 "nbformat": 4,
 "nbformat_minor": 5
}
