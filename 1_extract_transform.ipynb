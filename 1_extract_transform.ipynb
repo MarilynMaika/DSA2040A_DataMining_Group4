{
 "cells": [
  {
   "cell_type": "code",
   "execution_count": 1,
   "id": "06d23798",
   "metadata": {},
   "outputs": [],
   "source": [
    "# Import necessary libraries\n",
    "import pandas as pd\n",
    "import numpy as np\n",
    "import matplotlib.pyplot as plt\n",
    "import seaborn as sns\n",
    "from sklearn.model_selection import train_test_split\n"
   ]
  },
  {
   "cell_type": "markdown",
   "id": "5fbfcfdd",
   "metadata": {},
   "source": [
    "### Extraction by Rita"
   ]
  },
  {
   "cell_type": "code",
   "execution_count": 5,
   "id": "e1075aa7",
   "metadata": {},
   "outputs": [],
   "source": [
    "# ETL Extract by Rita\n",
    "import pandas as pd\n",
    "\n",
    "# Load dataset\n",
    "df = pd.read_csv('cybersecurity_intrusion_data.csv')\n"
   ]
  },
  {
   "cell_type": "code",
   "execution_count": 6,
   "id": "a1c0d192",
   "metadata": {},
   "outputs": [
    {
     "name": "stdout",
     "output_type": "stream",
     "text": [
      "Cybersecurity Intrusion Data Preview:\n"
     ]
    },
    {
     "data": {
      "application/vnd.microsoft.datawrangler.viewer.v0+json": {
       "columns": [
        {
         "name": "index",
         "rawType": "int64",
         "type": "integer"
        },
        {
         "name": "session_id",
         "rawType": "object",
         "type": "string"
        },
        {
         "name": "network_packet_size",
         "rawType": "int64",
         "type": "integer"
        },
        {
         "name": "protocol_type",
         "rawType": "object",
         "type": "string"
        },
        {
         "name": "login_attempts",
         "rawType": "int64",
         "type": "integer"
        },
        {
         "name": "session_duration",
         "rawType": "float64",
         "type": "float"
        },
        {
         "name": "encryption_used",
         "rawType": "object",
         "type": "string"
        },
        {
         "name": "ip_reputation_score",
         "rawType": "float64",
         "type": "float"
        },
        {
         "name": "failed_logins",
         "rawType": "int64",
         "type": "integer"
        },
        {
         "name": "browser_type",
         "rawType": "object",
         "type": "string"
        },
        {
         "name": "unusual_time_access",
         "rawType": "int64",
         "type": "integer"
        },
        {
         "name": "attack_detected",
         "rawType": "int64",
         "type": "integer"
        }
       ],
       "ref": "53b579bc-557c-4de2-99a1-9e72c09d4b41",
       "rows": [
        [
         "0",
         "SID_00001",
         "599",
         "TCP",
         "4",
         "492.9832634426563",
         "DES",
         "0.606818080396889",
         "1",
         "Edge",
         "0",
         "1"
        ],
        [
         "1",
         "SID_00002",
         "472",
         "TCP",
         "3",
         "1557.9964611204384",
         "DES",
         "0.3015689675960893",
         "0",
         "Firefox",
         "0",
         "0"
        ],
        [
         "2",
         "SID_00003",
         "629",
         "TCP",
         "3",
         "75.04426166420741",
         "DES",
         "0.7391643279163831",
         "2",
         "Chrome",
         "0",
         "1"
        ],
        [
         "3",
         "SID_00004",
         "804",
         "UDP",
         "4",
         "601.2488351708328",
         "DES",
         "0.1232671757524846",
         "0",
         "Unknown",
         "0",
         "1"
        ],
        [
         "4",
         "SID_00005",
         "453",
         "TCP",
         "5",
         "532.5408884201419",
         "AES",
         "0.0548738567431703",
         "1",
         "Firefox",
         "0",
         "0"
        ]
       ],
       "shape": {
        "columns": 11,
        "rows": 5
       }
      },
      "text/html": [
       "<div>\n",
       "<style scoped>\n",
       "    .dataframe tbody tr th:only-of-type {\n",
       "        vertical-align: middle;\n",
       "    }\n",
       "\n",
       "    .dataframe tbody tr th {\n",
       "        vertical-align: top;\n",
       "    }\n",
       "\n",
       "    .dataframe thead th {\n",
       "        text-align: right;\n",
       "    }\n",
       "</style>\n",
       "<table border=\"1\" class=\"dataframe\">\n",
       "  <thead>\n",
       "    <tr style=\"text-align: right;\">\n",
       "      <th></th>\n",
       "      <th>session_id</th>\n",
       "      <th>network_packet_size</th>\n",
       "      <th>protocol_type</th>\n",
       "      <th>login_attempts</th>\n",
       "      <th>session_duration</th>\n",
       "      <th>encryption_used</th>\n",
       "      <th>ip_reputation_score</th>\n",
       "      <th>failed_logins</th>\n",
       "      <th>browser_type</th>\n",
       "      <th>unusual_time_access</th>\n",
       "      <th>attack_detected</th>\n",
       "    </tr>\n",
       "  </thead>\n",
       "  <tbody>\n",
       "    <tr>\n",
       "      <th>0</th>\n",
       "      <td>SID_00001</td>\n",
       "      <td>599</td>\n",
       "      <td>TCP</td>\n",
       "      <td>4</td>\n",
       "      <td>492.983263</td>\n",
       "      <td>DES</td>\n",
       "      <td>0.606818</td>\n",
       "      <td>1</td>\n",
       "      <td>Edge</td>\n",
       "      <td>0</td>\n",
       "      <td>1</td>\n",
       "    </tr>\n",
       "    <tr>\n",
       "      <th>1</th>\n",
       "      <td>SID_00002</td>\n",
       "      <td>472</td>\n",
       "      <td>TCP</td>\n",
       "      <td>3</td>\n",
       "      <td>1557.996461</td>\n",
       "      <td>DES</td>\n",
       "      <td>0.301569</td>\n",
       "      <td>0</td>\n",
       "      <td>Firefox</td>\n",
       "      <td>0</td>\n",
       "      <td>0</td>\n",
       "    </tr>\n",
       "    <tr>\n",
       "      <th>2</th>\n",
       "      <td>SID_00003</td>\n",
       "      <td>629</td>\n",
       "      <td>TCP</td>\n",
       "      <td>3</td>\n",
       "      <td>75.044262</td>\n",
       "      <td>DES</td>\n",
       "      <td>0.739164</td>\n",
       "      <td>2</td>\n",
       "      <td>Chrome</td>\n",
       "      <td>0</td>\n",
       "      <td>1</td>\n",
       "    </tr>\n",
       "    <tr>\n",
       "      <th>3</th>\n",
       "      <td>SID_00004</td>\n",
       "      <td>804</td>\n",
       "      <td>UDP</td>\n",
       "      <td>4</td>\n",
       "      <td>601.248835</td>\n",
       "      <td>DES</td>\n",
       "      <td>0.123267</td>\n",
       "      <td>0</td>\n",
       "      <td>Unknown</td>\n",
       "      <td>0</td>\n",
       "      <td>1</td>\n",
       "    </tr>\n",
       "    <tr>\n",
       "      <th>4</th>\n",
       "      <td>SID_00005</td>\n",
       "      <td>453</td>\n",
       "      <td>TCP</td>\n",
       "      <td>5</td>\n",
       "      <td>532.540888</td>\n",
       "      <td>AES</td>\n",
       "      <td>0.054874</td>\n",
       "      <td>1</td>\n",
       "      <td>Firefox</td>\n",
       "      <td>0</td>\n",
       "      <td>0</td>\n",
       "    </tr>\n",
       "  </tbody>\n",
       "</table>\n",
       "</div>"
      ],
      "text/plain": [
       "  session_id  network_packet_size protocol_type  login_attempts  \\\n",
       "0  SID_00001                  599           TCP               4   \n",
       "1  SID_00002                  472           TCP               3   \n",
       "2  SID_00003                  629           TCP               3   \n",
       "3  SID_00004                  804           UDP               4   \n",
       "4  SID_00005                  453           TCP               5   \n",
       "\n",
       "   session_duration encryption_used  ip_reputation_score  failed_logins  \\\n",
       "0        492.983263             DES             0.606818              1   \n",
       "1       1557.996461             DES             0.301569              0   \n",
       "2         75.044262             DES             0.739164              2   \n",
       "3        601.248835             DES             0.123267              0   \n",
       "4        532.540888             AES             0.054874              1   \n",
       "\n",
       "  browser_type  unusual_time_access  attack_detected  \n",
       "0         Edge                    0                1  \n",
       "1      Firefox                    0                0  \n",
       "2       Chrome                    0                1  \n",
       "3      Unknown                    0                1  \n",
       "4      Firefox                    0                0  "
      ]
     },
     "metadata": {},
     "output_type": "display_data"
    },
    {
     "name": "stdout",
     "output_type": "stream",
     "text": [
      "<class 'pandas.core.frame.DataFrame'>\n",
      "RangeIndex: 9537 entries, 0 to 9536\n",
      "Data columns (total 11 columns):\n",
      " #   Column               Non-Null Count  Dtype  \n",
      "---  ------               --------------  -----  \n",
      " 0   session_id           9537 non-null   object \n",
      " 1   network_packet_size  9537 non-null   int64  \n",
      " 2   protocol_type        9537 non-null   object \n",
      " 3   login_attempts       9537 non-null   int64  \n",
      " 4   session_duration     9537 non-null   float64\n",
      " 5   encryption_used      7571 non-null   object \n",
      " 6   ip_reputation_score  9537 non-null   float64\n",
      " 7   failed_logins        9537 non-null   int64  \n",
      " 8   browser_type         9537 non-null   object \n",
      " 9   unusual_time_access  9537 non-null   int64  \n",
      " 10  attack_detected      9537 non-null   int64  \n",
      "dtypes: float64(2), int64(5), object(4)\n",
      "memory usage: 819.7+ KB\n"
     ]
    }
   ],
   "source": [
    "# Preview data\n",
    "print(\"Cybersecurity Intrusion Data Preview:\")\n",
    "display(df.head())\n",
    "df.info()"
   ]
  },
  {
   "cell_type": "code",
   "execution_count": 7,
   "id": "1da93771",
   "metadata": {},
   "outputs": [
    {
     "name": "stdout",
     "output_type": "stream",
     "text": [
      "\n",
      "Observations:\n",
      "Missing values:\n",
      " session_id                0\n",
      "network_packet_size       0\n",
      "protocol_type             0\n",
      "login_attempts            0\n",
      "session_duration          0\n",
      "encryption_used        1966\n",
      "ip_reputation_score       0\n",
      "failed_logins             0\n",
      "browser_type              0\n",
      "unusual_time_access       0\n",
      "attack_detected           0\n",
      "dtype: int64\n",
      "Duplicate rows: 0\n"
     ]
    }
   ],
   "source": [
    "# Observations\n",
    "print(\"\\nObservations:\")\n",
    "print(\"Missing values:\\n\", df.isnull().sum())\n",
    "print(\"Duplicate rows:\", df.duplicated().sum())\n",
    "\n"
   ]
  },
  {
   "cell_type": "markdown",
   "id": "15fb63bc",
   "metadata": {},
   "source": [
    "### Transformation by Hetal"
   ]
  },
  {
   "cell_type": "markdown",
   "id": "93260db9",
   "metadata": {},
   "source": [
    "Structrutal: \n",
    "\n",
    "- Convert dates \n",
    "\n",
    "- Change data types\n",
    "\n",
    "- Consistent case \n"
   ]
  },
  {
   "cell_type": "code",
   "execution_count": null,
   "id": "5eb93462",
   "metadata": {},
   "outputs": [
    {
     "name": "stdout",
     "output_type": "stream",
     "text": [
      "The data types are: \n",
      " session_id              object\n",
      "network_packet_size      int64\n",
      "protocol_type           object\n",
      "login_attempts           int64\n",
      "session_duration       float64\n",
      "encryption_used         object\n",
      "ip_reputation_score    float64\n",
      "failed_logins            int64\n",
      "browser_type            object\n",
      "unusual_time_access      int64\n",
      "attack_detected          int64\n",
      "dtype: object \n",
      "\n"
     ]
    }
   ],
   "source": [
    "# Displaying the data type for each column - Hetal\n",
    "print(f\"The data types are: \\n {df.dtypes} \\n\")\n",
    "\n",
    "''' \n",
    "- Since there are no dates, there is no need for covnersion.\n",
    "- Each column has the correct data type as seen in the output below thus no change required.\n",
    "'''\n"
   ]
  },
  {
   "cell_type": "code",
   "execution_count": null,
   "id": "46c184bb",
   "metadata": {},
   "outputs": [
    {
     "name": "stdout",
     "output_type": "stream",
     "text": [
      "0        TCP\n",
      "1        TCP\n",
      "2        TCP\n",
      "3        UDP\n",
      "4        TCP\n",
      "        ... \n",
      "9532    ICMP\n",
      "9533     TCP\n",
      "9534     TCP\n",
      "9535     TCP\n",
      "9536     TCP\n",
      "Name: protocol_type, Length: 9537, dtype: object\n"
     ]
    }
   ],
   "source": [
    "# Ensuring consistent casing - Hetal\n",
    "\n",
    "# Converting 'protocol_type' (TCP, UDP, ICMP) to upper case\n",
    "df['protocol_type'] = df['protocol_type'].str.upper()\n",
    "\n",
    "# Checking if the text is in upper case\n",
    "print(df['protocol_type'])\n",
    "\n",
    "''' \n",
    "As seen in the output, the text in 'protocol_type' is now in a consistent case (upper case)\n",
    "'''\n"
   ]
  },
  {
   "cell_type": "markdown",
   "id": "884c94b1",
   "metadata": {},
   "source": [
    "Cleaning:\n",
    "\n",
    "- Handle missing values\n",
    "\n",
    "- Remove duplicates\n"
   ]
  },
  {
   "cell_type": "code",
   "execution_count": 13,
   "id": "6956299d",
   "metadata": {},
   "outputs": [
    {
     "name": "stdout",
     "output_type": "stream",
     "text": [
      "The number of missing values are: \n",
      " session_id                0\n",
      "network_packet_size       0\n",
      "protocol_type             0\n",
      "login_attempts            0\n",
      "session_duration          0\n",
      "encryption_used        1966\n",
      "ip_reputation_score       0\n",
      "failed_logins             0\n",
      "browser_type              0\n",
      "unusual_time_access       0\n",
      "attack_detected           0\n",
      "dtype: int64 \n",
      "\n",
      "The number of missing values are: \n",
      " session_id             0\n",
      "network_packet_size    0\n",
      "protocol_type          0\n",
      "login_attempts         0\n",
      "session_duration       0\n",
      "encryption_used        0\n",
      "ip_reputation_score    0\n",
      "failed_logins          0\n",
      "browser_type           0\n",
      "unusual_time_access    0\n",
      "attack_detected        0\n",
      "dtype: int64 \n",
      "\n"
     ]
    }
   ],
   "source": [
    "# Checking for missing values in each column - Hetal\n",
    "missing_values = df.isnull().sum()\n",
    "print(f\"The number of missing values are: \\n {missing_values} \\n\")\n",
    "\n",
    "# Filling missing values\n",
    "df['encryption_used'] = df['encryption_used'].fillna(\"No Data\")\n",
    "\n",
    "# Confirming for missing values in each column\n",
    "missing_values_after = df.isnull().sum()\n",
    "print(f\"The number of missing values are: \\n {missing_values_after} \\n\")\n"
   ]
  },
  {
   "cell_type": "code",
   "execution_count": null,
   "id": "09b51922",
   "metadata": {},
   "outputs": [
    {
     "name": "stdout",
     "output_type": "stream",
     "text": [
      "The number of duplicate rows include: \n",
      " 0 \n",
      "\n"
     ]
    }
   ],
   "source": [
    "# Checking for duplicate records - Hetal\n",
    "duplicates = df.duplicated().sum()\n",
    "print(f\"The number of duplicate rows include: \\n {duplicates} \\n\")\n",
    "\n",
    "''' \n",
    "- As seen there are zero duplicates thus no removal required.\n",
    "'''"
   ]
  }
 ],
 "metadata": {
  "kernelspec": {
   "display_name": "Python 3",
   "language": "python",
   "name": "python3"
  },
  "language_info": {
   "codemirror_mode": {
    "name": "ipython",
    "version": 3
   },
   "file_extension": ".py",
   "mimetype": "text/x-python",
   "name": "python",
   "nbconvert_exporter": "python",
   "pygments_lexer": "ipython3",
   "version": "3.12.10"
  }
 },
 "nbformat": 4,
 "nbformat_minor": 5
}
